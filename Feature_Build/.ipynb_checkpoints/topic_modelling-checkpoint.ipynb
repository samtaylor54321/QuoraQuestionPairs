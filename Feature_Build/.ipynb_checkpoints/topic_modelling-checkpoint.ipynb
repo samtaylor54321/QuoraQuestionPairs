{
 "cells": [
  {
   "cell_type": "markdown",
   "metadata": {
    "_uuid": "0e7f1eca6087c4c45c31bc6045dea57a3f37b89f"
   },
   "source": [
    "# Topic modelling and entity extraction"
   ]
  },
  {
   "cell_type": "code",
   "execution_count": 73,
   "metadata": {
    "_cell_guid": "b1076dfc-b9ad-4769-8c92-a6c4dae69d19",
    "_uuid": "8f2839f25d086af736a60e9eeb907d3b93b6e0e5"
   },
   "outputs": [
    {
     "data": {
      "text/html": [
       "<script type=\"text/javascript\">window.PlotlyConfig = {MathJaxConfig: 'local'};</script><script type=\"text/javascript\">if (window.MathJax) {MathJax.Hub.Config({SVG: {font: \"STIX-Web\"}});}</script><script>requirejs.config({paths: { 'plotly': ['https://cdn.plot.ly/plotly-latest.min']},});if(!window._Plotly) {require(['plotly'],function(plotly) {window._Plotly=plotly;});}</script>"
      ],
      "text/vnd.plotly.v1+html": [
       "<script type=\"text/javascript\">window.PlotlyConfig = {MathJaxConfig: 'local'};</script><script type=\"text/javascript\">if (window.MathJax) {MathJax.Hub.Config({SVG: {font: \"STIX-Web\"}});}</script><script>requirejs.config({paths: { 'plotly': ['https://cdn.plot.ly/plotly-latest.min']},});if(!window._Plotly) {require(['plotly'],function(plotly) {window._Plotly=plotly;});}</script>"
      ]
     },
     "metadata": {},
     "output_type": "display_data"
    },
    {
     "ename": "ModuleNotFoundError",
     "evalue": "No module named 'gensim'",
     "output_type": "error",
     "traceback": [
      "\u001b[0;31m---------------------------------------------------------------------------\u001b[0m",
      "\u001b[0;31mModuleNotFoundError\u001b[0m                       Traceback (most recent call last)",
      "\u001b[0;32m<ipython-input-73-4c036d863fcb>\u001b[0m in \u001b[0;36m<module>\u001b[0;34m()\u001b[0m\n\u001b[1;32m     32\u001b[0m \u001b[0;31m# !python -m spacy download en_core_web_lg\u001b[0m\u001b[0;34m\u001b[0m\u001b[0;34m\u001b[0m\u001b[0m\n\u001b[1;32m     33\u001b[0m \u001b[0;34m\u001b[0m\u001b[0m\n\u001b[0;32m---> 34\u001b[0;31m \u001b[0;32mfrom\u001b[0m \u001b[0mgensim\u001b[0m\u001b[0;34m.\u001b[0m\u001b[0mmodels\u001b[0m \u001b[0;32mimport\u001b[0m \u001b[0mWord2Vec\u001b[0m\u001b[0;34m\u001b[0m\u001b[0m\n\u001b[0m",
      "\u001b[0;31mModuleNotFoundError\u001b[0m: No module named 'gensim'"
     ]
    }
   ],
   "source": [
    "# Usual imports\n",
    "import numpy as np\n",
    "import pandas as pd\n",
    "import string\n",
    "from tqdm import tqdm\n",
    "import matplotlib.pyplot as plt\n",
    "from sklearn.decomposition import NMF, LatentDirichletAllocation, TruncatedSVD\n",
    "from sklearn.feature_extraction.text import CountVectorizer\n",
    "from sklearn.manifold import TSNE\n",
    "import concurrent.futures\n",
    "import time\n",
    "import pyLDAvis.sklearn\n",
    "from pylab import bone, pcolor, colorbar, plot, show, rcParams, savefig\n",
    "import warnings\n",
    "warnings.filterwarnings('ignore')\n",
    "\n",
    "%matplotlib inline\n",
    "import os\n",
    "\n",
    "# Plotly based imports for visualization\n",
    "from plotly import tools\n",
    "import plotly.plotly as py\n",
    "from plotly.offline import init_notebook_mode, iplot\n",
    "init_notebook_mode(connected=True)\n",
    "import plotly.graph_objs as go\n",
    "import plotly.figure_factory as ff\n",
    "\n",
    "# spaCy based imports\n",
    "import spacy\n",
    "from spacy.lang.en.stop_words import STOP_WORDS\n",
    "from spacy.lang.en import English\n",
    "# !python -m spacy download en_core_web_lg"
   ]
  },
  {
   "cell_type": "code",
   "execution_count": 53,
   "metadata": {},
   "outputs": [],
   "source": [
    "CLEAN_AND_TOKENIZE = True\n",
    "\n",
    "INPUT_PATH = os.path.join(os.pardir, 'Datasets')\n",
    "OUT_PATH = os.path.join(os.pardir, 'Datasets')\n",
    "INPUT_FILE = 'train.csv'\n",
    "SAMPLE_SIZE = 50000\n",
    "\n",
    "NUM_TOPICS = 10"
   ]
  },
  {
   "cell_type": "code",
   "execution_count": 54,
   "metadata": {
    "_uuid": "d57d08400a530b786ad3226110e34aefb85e94b1"
   },
   "outputs": [
    {
     "data": {
      "text/html": [
       "<div>\n",
       "<style scoped>\n",
       "    .dataframe tbody tr th:only-of-type {\n",
       "        vertical-align: middle;\n",
       "    }\n",
       "\n",
       "    .dataframe tbody tr th {\n",
       "        vertical-align: top;\n",
       "    }\n",
       "\n",
       "    .dataframe thead th {\n",
       "        text-align: right;\n",
       "    }\n",
       "</style>\n",
       "<table border=\"1\" class=\"dataframe\">\n",
       "  <thead>\n",
       "    <tr style=\"text-align: right;\">\n",
       "      <th></th>\n",
       "      <th>qid1</th>\n",
       "      <th>qid2</th>\n",
       "      <th>question1</th>\n",
       "      <th>question2</th>\n",
       "      <th>is_duplicate</th>\n",
       "    </tr>\n",
       "    <tr>\n",
       "      <th>id</th>\n",
       "      <th></th>\n",
       "      <th></th>\n",
       "      <th></th>\n",
       "      <th></th>\n",
       "      <th></th>\n",
       "    </tr>\n",
       "  </thead>\n",
       "  <tbody>\n",
       "    <tr>\n",
       "      <th>0</th>\n",
       "      <td>1</td>\n",
       "      <td>2</td>\n",
       "      <td>What is the step by step guide to invest in sh...</td>\n",
       "      <td>What is the step by step guide to invest in sh...</td>\n",
       "      <td>0</td>\n",
       "    </tr>\n",
       "    <tr>\n",
       "      <th>1</th>\n",
       "      <td>3</td>\n",
       "      <td>4</td>\n",
       "      <td>What is the story of Kohinoor (Koh-i-Noor) Dia...</td>\n",
       "      <td>What would happen if the Indian government sto...</td>\n",
       "      <td>0</td>\n",
       "    </tr>\n",
       "    <tr>\n",
       "      <th>2</th>\n",
       "      <td>5</td>\n",
       "      <td>6</td>\n",
       "      <td>How can I increase the speed of my internet co...</td>\n",
       "      <td>How can Internet speed be increased by hacking...</td>\n",
       "      <td>0</td>\n",
       "    </tr>\n",
       "    <tr>\n",
       "      <th>3</th>\n",
       "      <td>7</td>\n",
       "      <td>8</td>\n",
       "      <td>Why am I mentally very lonely? How can I solve...</td>\n",
       "      <td>Find the remainder when [math]23^{24}[/math] i...</td>\n",
       "      <td>0</td>\n",
       "    </tr>\n",
       "    <tr>\n",
       "      <th>4</th>\n",
       "      <td>9</td>\n",
       "      <td>10</td>\n",
       "      <td>Which one dissolve in water quikly sugar, salt...</td>\n",
       "      <td>Which fish would survive in salt water?</td>\n",
       "      <td>0</td>\n",
       "    </tr>\n",
       "  </tbody>\n",
       "</table>\n",
       "</div>"
      ],
      "text/plain": [
       "    qid1  qid2                                          question1  \\\n",
       "id                                                                  \n",
       "0      1     2  What is the step by step guide to invest in sh...   \n",
       "1      3     4  What is the story of Kohinoor (Koh-i-Noor) Dia...   \n",
       "2      5     6  How can I increase the speed of my internet co...   \n",
       "3      7     8  Why am I mentally very lonely? How can I solve...   \n",
       "4      9    10  Which one dissolve in water quikly sugar, salt...   \n",
       "\n",
       "                                            question2  is_duplicate  \n",
       "id                                                                   \n",
       "0   What is the step by step guide to invest in sh...             0  \n",
       "1   What would happen if the Indian government sto...             0  \n",
       "2   How can Internet speed be increased by hacking...             0  \n",
       "3   Find the remainder when [math]23^{24}[/math] i...             0  \n",
       "4             Which fish would survive in salt water?             0  "
      ]
     },
     "execution_count": 54,
     "metadata": {},
     "output_type": "execute_result"
    }
   ],
   "source": [
    "# Loading data\n",
    "df = pd.read_csv(os.path.join(INPUT_PATH, INPUT_FILE), nrows=SAMPLE_SIZE)\n",
    "df.set_index('id', inplace=True)\n",
    "df.fillna('Empty question', inplace=True)\n",
    "df.head()"
   ]
  },
  {
   "cell_type": "code",
   "execution_count": 57,
   "metadata": {},
   "outputs": [],
   "source": [
    "punctuations = string.punctuation\n",
    "stopwords = list(STOP_WORDS)\n",
    "parser = English()\n",
    "def spacy_tokenizer(sentence):\n",
    "    mytokens = parser(sentence)\n",
    "    mytokens = [ word.lemma_.lower().strip() if word.lemma_ != \"-PRON-\" else word.lower_ for word in mytokens ]\n",
    "    mytokens = [ word for word in mytokens if word not in stopwords and word not in punctuations ]\n",
    "    mytokens = \" \".join([i for i in mytokens])\n",
    "    return mytokens"
   ]
  },
  {
   "cell_type": "code",
   "execution_count": 58,
   "metadata": {},
   "outputs": [],
   "source": [
    "if CLEAN_AND_TOKENIZE:\n",
    "    df['question1'] = df['question1'].apply(spacy_tokenizer)\n",
    "    df['question2'] = df['question2'].apply(spacy_tokenizer)"
   ]
  },
  {
   "cell_type": "markdown",
   "metadata": {},
   "source": [
    "## Entity Extraction"
   ]
  },
  {
   "cell_type": "code",
   "execution_count": 59,
   "metadata": {
    "_uuid": "17fe81e7e90dfb32681f56a03b9136bbb74343b8"
   },
   "outputs": [],
   "source": [
    "# Creating a spaCy object\n",
    "nlp = spacy.load('en_core_web_lg')"
   ]
  },
  {
   "cell_type": "markdown",
   "metadata": {},
   "source": [
    "Single example:"
   ]
  },
  {
   "cell_type": "code",
   "execution_count": 62,
   "metadata": {
    "_uuid": "677e753450ddea24b1289e3033a2f7928710ef25"
   },
   "outputs": [
    {
     "data": {
      "text/html": [
       "<div class=\"entities\" style=\"line-height: 2.5\">associate product manager apm program \n",
       "<mark class=\"entity\" style=\"background: #bfe1d9; padding: 0.45em 0.6em; margin: 0 0.25em; line-height: 1; border-radius: 0.35em; box-decoration-break: clone; -webkit-box-decoration-break: clone\">\n",
       "    early 20s\n",
       "    <span style=\"font-size: 0.8em; font-weight: bold; line-height: 1; border-radius: 0.35em; text-transform: uppercase; vertical-align: middle; margin-left: 0.5rem\">DATE</span>\n",
       "</mark>\n",
       " join learn product management reward career company</div>"
      ],
      "text/plain": [
       "<IPython.core.display.HTML object>"
      ]
     },
     "metadata": {},
     "output_type": "display_data"
    }
   ],
   "source": [
    "ex = nlp(df['question1'][98])\n",
    "spacy.displacy.render(ex, style='ent',jupyter=True)"
   ]
  },
  {
   "cell_type": "markdown",
   "metadata": {},
   "source": [
    "Full dataset:"
   ]
  },
  {
   "cell_type": "code",
   "execution_count": 63,
   "metadata": {},
   "outputs": [],
   "source": [
    "def get_entities(x):\n",
    "    entity_types = (\n",
    "        'PERSON',\n",
    "        'NORP',\n",
    "        'FAC',\n",
    "        'ORG',\n",
    "        'GPE',\n",
    "        'LOC',\n",
    "        'PRODUCT',\n",
    "        'EVENT',\n",
    "        'WORK_OF_ART',\n",
    "        'LAW',\n",
    "        'LANGUAGE',\n",
    "        'DATE',\n",
    "        'TIME',\n",
    "        'PERCENT',\n",
    "        'MONEY',\n",
    "        'QUANTITY',\n",
    "        'ORDINAL',\n",
    "        'CARDINAL'\n",
    "    )\n",
    "    \n",
    "    df = pd.DataFrame(\n",
    "        data=np.zeros([len(x), len(entity_types)]).astype(int),\n",
    "        columns=entity_types,\n",
    "        index=x.index\n",
    "    )\n",
    "    for i, val in x.iteritems():\n",
    "        if i % (len(x) / 10) == 0:\n",
    "            print('Entry {}/{}'.format(i, len(x)))\n",
    "        doc = nlp(spacy_tokenizer(val), disable=['parser'])\n",
    "        for ent in doc.ents:\n",
    "            df.loc[i, ent.label_] += 1\n",
    "    df.columns = [col + '_COUNT' for col in df.columns]\n",
    "    return df"
   ]
  },
  {
   "cell_type": "code",
   "execution_count": 64,
   "metadata": {},
   "outputs": [
    {
     "name": "stdout",
     "output_type": "stream",
     "text": [
      "Entry 0/50000\n",
      "Entry 5000/50000\n",
      "Entry 10000/50000\n",
      "Entry 15000/50000\n",
      "Entry 20000/50000\n",
      "Entry 25000/50000\n",
      "Entry 30000/50000\n",
      "Entry 35000/50000\n",
      "Entry 40000/50000\n",
      "Entry 45000/50000\n",
      "Entry 0/50000\n",
      "Entry 5000/50000\n",
      "Entry 10000/50000\n",
      "Entry 15000/50000\n",
      "Entry 20000/50000\n",
      "Entry 25000/50000\n",
      "Entry 30000/50000\n",
      "Entry 35000/50000\n",
      "Entry 40000/50000\n",
      "Entry 45000/50000\n"
     ]
    }
   ],
   "source": [
    "ents_df_1 = get_entities(df['question1'])\n",
    "ents_df_2 = get_entities(df['question2'])\n",
    "ents_diff = ents_df_1 - ents_df_2\n",
    "assert ents_diff.index.nunique() == len(ents_diff), 'Index not unique'\n",
    "ents_diff.to_csv(os.path.join(OUT_PATH, 'FEATURE_entity_counts.csv'))"
   ]
  },
  {
   "cell_type": "markdown",
   "metadata": {
    "_uuid": "8cd922f8229f6aba3f08dfb25d8793a5e2b0ee57"
   },
   "source": [
    "## Parts of Speech tagging"
   ]
  },
  {
   "cell_type": "code",
   "execution_count": 65,
   "metadata": {
    "_uuid": "a8ed2a71e2d90ad317e7b0d69d0e6544ff19f17c"
   },
   "outputs": [],
   "source": [
    "# # POS tagging\n",
    "# for i in nlp(review):\n",
    "#     print(i,\"=>\",i.pos_)"
   ]
  },
  {
   "cell_type": "markdown",
   "metadata": {
    "_uuid": "e64d8d97ef7443b594431dc4662450264460aae1"
   },
   "source": [
    "## Topic-modelling"
   ]
  },
  {
   "cell_type": "code",
   "execution_count": 66,
   "metadata": {
    "_uuid": "fd00ec3f6d99df6434671334c513511485de5a18"
   },
   "outputs": [],
   "source": [
    "# Creating a vectorizer\n",
    "vectorizer = CountVectorizer(\n",
    "    min_df=5, \n",
    "    max_df=0.9, \n",
    "    stop_words='english', \n",
    "    lowercase=True, \n",
    "    token_pattern='[a-zA-Z\\-][a-zA-Z\\-]{2,}'\n",
    ")\n",
    "corpus = pd.concat([df['question1'], df['question2']])\n",
    "vectorized_corpus = vectorizer.fit_transform(corpus)\n",
    "q1_vectorized = vectorizer.transform(df['question1'])\n",
    "q2_vectorized = vectorizer.transform(df['question2'])"
   ]
  },
  {
   "cell_type": "code",
   "execution_count": 67,
   "metadata": {
    "_uuid": "2f0140ca0b3eb106edeee8afac1720e25eae5675"
   },
   "outputs": [
    {
     "name": "stdout",
     "output_type": "stream",
     "text": [
      "iteration: 1 of max_iter: 10\n",
      "iteration: 2 of max_iter: 10\n",
      "iteration: 3 of max_iter: 10\n",
      "iteration: 4 of max_iter: 10\n",
      "iteration: 5 of max_iter: 10\n",
      "iteration: 6 of max_iter: 10\n",
      "iteration: 7 of max_iter: 10\n",
      "iteration: 8 of max_iter: 10\n",
      "iteration: 9 of max_iter: 10\n",
      "iteration: 10 of max_iter: 10\n"
     ]
    }
   ],
   "source": [
    "# Latent Dirichlet Allocation Model\n",
    "lda = LatentDirichletAllocation(\n",
    "    n_components=NUM_TOPICS, \n",
    "    max_iter=10, \n",
    "    verbose=True,\n",
    "    random_state=0\n",
    ")\n",
    "lda.fit(vectorized_corpus)\n",
    "q1_lda = lda.transform(q1_vectorized)\n",
    "q2_lda = lda.transform(q2_vectorized)"
   ]
  },
  {
   "cell_type": "code",
   "execution_count": 68,
   "metadata": {},
   "outputs": [],
   "source": [
    "topic_similarity = q1_lda * q2_lda\n",
    "topic_df = pd.DataFrame(\n",
    "    data=topic_similarity,\n",
    "    columns=['PROB_BOTH_SHARE_TOPIC_' + str(i) for i in range(topic_similarity.shape[1])],\n",
    "    index=df.index\n",
    ")\n",
    "topic_df.to_csv(os.path.join(OUT_PATH, 'FEATURE_topic_sharing.csv'))"
   ]
  },
  {
   "cell_type": "code",
   "execution_count": 69,
   "metadata": {},
   "outputs": [
    {
     "data": {
      "text/html": [
       "<div>\n",
       "<style scoped>\n",
       "    .dataframe tbody tr th:only-of-type {\n",
       "        vertical-align: middle;\n",
       "    }\n",
       "\n",
       "    .dataframe tbody tr th {\n",
       "        vertical-align: top;\n",
       "    }\n",
       "\n",
       "    .dataframe thead th {\n",
       "        text-align: right;\n",
       "    }\n",
       "</style>\n",
       "<table border=\"1\" class=\"dataframe\">\n",
       "  <thead>\n",
       "    <tr style=\"text-align: right;\">\n",
       "      <th></th>\n",
       "      <th>PROB_BOTH_SHARE_TOPIC_0</th>\n",
       "      <th>PROB_BOTH_SHARE_TOPIC_1</th>\n",
       "      <th>PROB_BOTH_SHARE_TOPIC_2</th>\n",
       "      <th>PROB_BOTH_SHARE_TOPIC_3</th>\n",
       "      <th>PROB_BOTH_SHARE_TOPIC_4</th>\n",
       "      <th>PROB_BOTH_SHARE_TOPIC_5</th>\n",
       "      <th>PROB_BOTH_SHARE_TOPIC_6</th>\n",
       "      <th>PROB_BOTH_SHARE_TOPIC_7</th>\n",
       "      <th>PROB_BOTH_SHARE_TOPIC_8</th>\n",
       "      <th>PROB_BOTH_SHARE_TOPIC_9</th>\n",
       "    </tr>\n",
       "    <tr>\n",
       "      <th>id</th>\n",
       "      <th></th>\n",
       "      <th></th>\n",
       "      <th></th>\n",
       "      <th></th>\n",
       "      <th></th>\n",
       "      <th></th>\n",
       "      <th></th>\n",
       "      <th></th>\n",
       "      <th></th>\n",
       "      <th></th>\n",
       "    </tr>\n",
       "  </thead>\n",
       "  <tbody>\n",
       "    <tr>\n",
       "      <th>0</th>\n",
       "      <td>0.000179</td>\n",
       "      <td>0.000179</td>\n",
       "      <td>0.000179</td>\n",
       "      <td>0.000179</td>\n",
       "      <td>0.000179</td>\n",
       "      <td>0.001964</td>\n",
       "      <td>0.664464</td>\n",
       "      <td>0.000179</td>\n",
       "      <td>0.000179</td>\n",
       "      <td>0.000179</td>\n",
       "    </tr>\n",
       "    <tr>\n",
       "      <th>1</th>\n",
       "      <td>0.000556</td>\n",
       "      <td>0.000556</td>\n",
       "      <td>0.000556</td>\n",
       "      <td>0.000556</td>\n",
       "      <td>0.011667</td>\n",
       "      <td>0.000556</td>\n",
       "      <td>0.128333</td>\n",
       "      <td>0.006111</td>\n",
       "      <td>0.000556</td>\n",
       "      <td>0.006111</td>\n",
       "    </tr>\n",
       "    <tr>\n",
       "      <th>2</th>\n",
       "      <td>0.000286</td>\n",
       "      <td>0.000286</td>\n",
       "      <td>0.034571</td>\n",
       "      <td>0.000286</td>\n",
       "      <td>0.000286</td>\n",
       "      <td>0.305993</td>\n",
       "      <td>0.000286</td>\n",
       "      <td>0.000286</td>\n",
       "      <td>0.000286</td>\n",
       "      <td>0.003143</td>\n",
       "    </tr>\n",
       "    <tr>\n",
       "      <th>3</th>\n",
       "      <td>0.000500</td>\n",
       "      <td>0.020500</td>\n",
       "      <td>0.000500</td>\n",
       "      <td>0.000500</td>\n",
       "      <td>0.000500</td>\n",
       "      <td>0.000500</td>\n",
       "      <td>0.015500</td>\n",
       "      <td>0.000500</td>\n",
       "      <td>0.000500</td>\n",
       "      <td>0.000500</td>\n",
       "    </tr>\n",
       "    <tr>\n",
       "      <th>4</th>\n",
       "      <td>0.000250</td>\n",
       "      <td>0.030249</td>\n",
       "      <td>0.000250</td>\n",
       "      <td>0.395254</td>\n",
       "      <td>0.000250</td>\n",
       "      <td>0.000250</td>\n",
       "      <td>0.000250</td>\n",
       "      <td>0.002750</td>\n",
       "      <td>0.000250</td>\n",
       "      <td>0.000250</td>\n",
       "    </tr>\n",
       "  </tbody>\n",
       "</table>\n",
       "</div>"
      ],
      "text/plain": [
       "    PROB_BOTH_SHARE_TOPIC_0  PROB_BOTH_SHARE_TOPIC_1  PROB_BOTH_SHARE_TOPIC_2  \\\n",
       "id                                                                              \n",
       "0                  0.000179                 0.000179                 0.000179   \n",
       "1                  0.000556                 0.000556                 0.000556   \n",
       "2                  0.000286                 0.000286                 0.034571   \n",
       "3                  0.000500                 0.020500                 0.000500   \n",
       "4                  0.000250                 0.030249                 0.000250   \n",
       "\n",
       "    PROB_BOTH_SHARE_TOPIC_3  PROB_BOTH_SHARE_TOPIC_4  PROB_BOTH_SHARE_TOPIC_5  \\\n",
       "id                                                                              \n",
       "0                  0.000179                 0.000179                 0.001964   \n",
       "1                  0.000556                 0.011667                 0.000556   \n",
       "2                  0.000286                 0.000286                 0.305993   \n",
       "3                  0.000500                 0.000500                 0.000500   \n",
       "4                  0.395254                 0.000250                 0.000250   \n",
       "\n",
       "    PROB_BOTH_SHARE_TOPIC_6  PROB_BOTH_SHARE_TOPIC_7  PROB_BOTH_SHARE_TOPIC_8  \\\n",
       "id                                                                              \n",
       "0                  0.664464                 0.000179                 0.000179   \n",
       "1                  0.128333                 0.006111                 0.000556   \n",
       "2                  0.000286                 0.000286                 0.000286   \n",
       "3                  0.015500                 0.000500                 0.000500   \n",
       "4                  0.000250                 0.002750                 0.000250   \n",
       "\n",
       "    PROB_BOTH_SHARE_TOPIC_9  \n",
       "id                           \n",
       "0                  0.000179  \n",
       "1                  0.006111  \n",
       "2                  0.003143  \n",
       "3                  0.000500  \n",
       "4                  0.000250  "
      ]
     },
     "execution_count": 69,
     "metadata": {},
     "output_type": "execute_result"
    }
   ],
   "source": [
    "topic_df.head()"
   ]
  },
  {
   "cell_type": "code",
   "execution_count": 70,
   "metadata": {
    "_uuid": "4965ca621bdd6abcf8dd4eb1a41699603cfa2284",
    "scrolled": false
   },
   "outputs": [],
   "source": [
    "# Functions for printing keywords for each topic\n",
    "def selected_topics(model, vectorizer, top_n=10):\n",
    "    for idx, topic in enumerate(model.components_):\n",
    "        print(\"Topic %d:\" % (idx))\n",
    "        print([(vectorizer.get_feature_names()[i], topic[i])\n",
    "                        for i in topic.argsort()[:-top_n - 1:-1]]) "
   ]
  },
  {
   "cell_type": "code",
   "execution_count": 71,
   "metadata": {
    "_uuid": "9a9f1099afa5c6c98ca90103080aa397cd146d3c"
   },
   "outputs": [
    {
     "name": "stdout",
     "output_type": "stream",
     "text": [
      "LDA Model:\n",
      "Topic 0:\n",
      "[('good', 3409.307142278148), ('way', 3217.075125788998), ('learn', 1720.3605737193564), ('start', 1543.3585665382416), ('want', 1416.0468971222376), ('feel', 1270.5732357857507), ('buy', 1001.1150715571399), ('girl', 928.3349284319263), ('person', 859.8524973607471), ('stop', 849.3465175210454)]\n",
      "Topic 1:\n",
      "[('like', 3314.766080513468), ('job', 1392.9958490821577), ('live', 897.6805499693997), ('help', 721.3931393154149), ('place', 693.8916388329501), ('math', 642.4429974876906), ('video', 613.3276711712149), ('google', 608.6539645148972), ('software', 565.3066171682856), ('bad', 546.3823265472535)]\n",
      "Topic 2:\n",
      "[('time', 2099.822364160718), ('year', 1864.8161738274844), ('difference', 1837.2759309418432), ('doe', 1712.6513252080438), ('mean', 1553.7560450325666), ('book', 1444.164188681905), ('love', 1132.180040813065), ('old', 919.8394864817185), ('improve', 863.266936301231), ('woman', 859.5473070510342)]\n",
      "Topic 3:\n",
      "[('money', 1773.1930470195214), ('movie', 1305.42528512631), ('online', 1202.160207852935), ('need', 1149.2134171357536), ('study', 883.6733565165152), ('weight', 866.4920390118906), ('prepare', 734.2249680506242), ('example', 686.400100091945), ('big', 680.1713515507065), ('school', 671.796957967527)]\n",
      "Topic 4:\n",
      "[('quora', 2220.9166161042735), ('think', 1723.4565333071716), ('question', 1544.0137927342373), ('happen', 1338.2996008076655), ('people', 1153.4094971049335), ('change', 936.9372531521226), ('ask', 892.4224950441029), ('answer', 842.757022282733), ('president', 701.1468295035035), ('card', 678.8246253932347)]\n",
      "Topic 5:\n",
      "[('india', 3738.4240262843487), ('use', 3304.6841488877426), ('day', 1310.28539180868), ('note', 1194.7326077927366), ('possible', 940.7232897011264), ('different', 735.8843731421226), ('free', 703.0698801862766), ('word', 679.8214585113436), ('month', 636.0845975690203), ('real', 595.6964566215734)]\n",
      "Topic 6:\n",
      "[('people', 2205.2855198850666), ('know', 2053.8219019634594), ('world', 1172.9147329473267), ('country', 954.3680858563216), ('compare', 895.9770686956189), ('website', 803.3494448884335), ('market', 616.1267290139665), ('computer', 589.3708462494792), ('experience', 551.9723092312672), ('science', 547.7851493660114)]\n",
      "Topic 7:\n",
      "[('doe', 3538.2994544512376), ('thing', 1579.2395733740982), ('indian', 1549.6361632876562), ('new', 1118.0040068651779), ('lose', 1044.8932836801605), ('engineer', 796.949635115663), ('come', 736.7240956303549), ('university', 732.2202298476502), ('look', 693.2812748040106), ('eat', 557.7510990954852)]\n",
      "Topic 8:\n",
      "[('life', 2138.426726716104), ('trump', 1314.9178559264942), ('language', 960.3491424740175), ('long', 905.6384930931598), ('student', 867.246397797882), ('donald', 807.0953746638186), ('college', 776.4346277188997), ('high', 718.0139622849962), ('programme', 692.5448120514887), ('read', 654.7683325869043)]\n",
      "Topic 9:\n",
      "[('work', 2017.1911549663637), ('account', 1035.638534944107), ('company', 1010.3129837849016), ('phone', 983.069226418651), ('app', 776.1866700066149), ('numb', 712.4900793471346), ('facebook', 690.2016364082878), ('instagram', 623.2053560782261), ('play', 571.5636019818694), ('android', 543.6890099369638)]\n"
     ]
    }
   ],
   "source": [
    "# Keywords for topics clustered by Latent Dirichlet Allocation\n",
    "print(\"LDA Model:\")\n",
    "selected_topics(lda, vectorizer)"
   ]
  },
  {
   "cell_type": "markdown",
   "metadata": {
    "_uuid": "1a9eeef90515577592dfebab1635c1f77a7a6868"
   },
   "source": [
    "The index in the above list with the largest value represents the most dominant topic for the given review.\n",
    "\n",
    "\n",
    "# Visualizing LDA results with pyLDAvis"
   ]
  },
  {
   "cell_type": "code",
   "execution_count": 72,
   "metadata": {
    "_uuid": "520045555b8cd5ebf89634e580a23f8a221e34c1"
   },
   "outputs": [
    {
     "data": {
      "text/html": [
       "\n",
       "<link rel=\"stylesheet\" type=\"text/css\" href=\"https://cdn.rawgit.com/bmabey/pyLDAvis/files/ldavis.v1.0.0.css\">\n",
       "\n",
       "\n",
       "<div id=\"ldavis_el94981125218030003746045819\"></div>\n",
       "<script type=\"text/javascript\">\n",
       "\n",
       "var ldavis_el94981125218030003746045819_data = {\"mdsDat\": {\"x\": [-367.96051025390625, 180.15342712402344, 135.33189392089844, 96.13115692138672, -109.43897247314453, -369.28680419921875, -89.38414001464844, -122.71538543701172, -161.9395294189453, 341.20330810546875], \"y\": [-213.06800842285156, -283.7044677734375, 244.67660522460938, -36.40186309814453, 97.46204376220703, 79.57279205322266, -399.0999755859375, -147.6831817626953, 341.060791015625, 7.842676162719727], \"topics\": [1, 2, 3, 4, 5, 6, 7, 8, 9, 10], \"cluster\": [1, 1, 1, 1, 1, 1, 1, 1, 1, 1], \"Freq\": [10.481290760357368, 10.453227858972529, 10.407970554129083, 10.211719341260537, 9.879227144951761, 9.80061233849657, 9.787192538835617, 9.751103626227007, 9.655237036458745, 9.57241880031079]}, \"tinfo\": {\"Category\": [\"Default\", \"Default\", \"Default\", \"Default\", \"Default\", \"Default\", \"Default\", \"Default\", \"Default\", \"Default\", \"Default\", \"Default\", \"Default\", \"Default\", \"Default\", \"Default\", \"Default\", \"Default\", \"Default\", \"Default\", \"Default\", \"Default\", \"Default\", \"Default\", \"Default\", \"Default\", \"Default\", \"Default\", \"Default\", \"Default\", \"Topic1\", \"Topic1\", \"Topic1\", \"Topic1\", \"Topic1\", \"Topic1\", \"Topic1\", \"Topic1\", \"Topic1\", \"Topic1\", \"Topic1\", \"Topic1\", \"Topic1\", \"Topic1\", \"Topic1\", \"Topic1\", \"Topic1\", \"Topic1\", \"Topic1\", \"Topic1\", \"Topic1\", \"Topic1\", \"Topic1\", \"Topic1\", \"Topic1\", \"Topic1\", \"Topic1\", \"Topic1\", \"Topic1\", \"Topic1\", \"Topic1\", \"Topic1\", \"Topic1\", \"Topic2\", \"Topic2\", \"Topic2\", \"Topic2\", \"Topic2\", \"Topic2\", \"Topic2\", \"Topic2\", \"Topic2\", \"Topic2\", \"Topic2\", \"Topic2\", \"Topic2\", \"Topic2\", \"Topic2\", \"Topic2\", \"Topic2\", \"Topic2\", \"Topic2\", \"Topic2\", \"Topic2\", \"Topic2\", \"Topic2\", \"Topic2\", \"Topic2\", \"Topic2\", \"Topic2\", \"Topic2\", \"Topic2\", \"Topic2\", \"Topic2\", \"Topic3\", \"Topic3\", \"Topic3\", \"Topic3\", \"Topic3\", \"Topic3\", \"Topic3\", \"Topic3\", \"Topic3\", \"Topic3\", \"Topic3\", \"Topic3\", \"Topic3\", \"Topic3\", \"Topic3\", \"Topic3\", \"Topic3\", \"Topic3\", \"Topic3\", \"Topic3\", \"Topic3\", \"Topic3\", \"Topic3\", \"Topic3\", \"Topic3\", \"Topic3\", \"Topic3\", \"Topic3\", \"Topic3\", \"Topic3\", \"Topic3\", \"Topic3\", \"Topic3\", \"Topic4\", \"Topic4\", \"Topic4\", \"Topic4\", \"Topic4\", \"Topic4\", \"Topic4\", \"Topic4\", \"Topic4\", \"Topic4\", \"Topic4\", \"Topic4\", \"Topic4\", \"Topic4\", \"Topic4\", \"Topic4\", \"Topic4\", \"Topic4\", \"Topic4\", \"Topic4\", \"Topic4\", \"Topic4\", \"Topic4\", \"Topic4\", \"Topic4\", \"Topic4\", \"Topic4\", \"Topic4\", \"Topic4\", \"Topic4\", \"Topic4\", \"Topic5\", \"Topic5\", \"Topic5\", \"Topic5\", \"Topic5\", \"Topic5\", \"Topic5\", \"Topic5\", \"Topic5\", \"Topic5\", \"Topic5\", \"Topic5\", \"Topic5\", \"Topic5\", \"Topic5\", \"Topic5\", \"Topic5\", \"Topic5\", \"Topic5\", \"Topic5\", \"Topic5\", \"Topic5\", \"Topic5\", \"Topic5\", \"Topic5\", \"Topic5\", \"Topic5\", \"Topic5\", \"Topic5\", \"Topic5\", \"Topic5\", \"Topic6\", \"Topic6\", \"Topic6\", \"Topic6\", \"Topic6\", \"Topic6\", \"Topic6\", \"Topic6\", \"Topic6\", \"Topic6\", \"Topic6\", \"Topic6\", \"Topic6\", \"Topic6\", \"Topic6\", \"Topic6\", \"Topic6\", \"Topic6\", \"Topic6\", \"Topic6\", \"Topic6\", \"Topic6\", \"Topic6\", \"Topic6\", \"Topic6\", \"Topic6\", \"Topic6\", \"Topic6\", \"Topic6\", \"Topic6\", \"Topic6\", \"Topic7\", \"Topic7\", \"Topic7\", \"Topic7\", \"Topic7\", \"Topic7\", \"Topic7\", \"Topic7\", \"Topic7\", \"Topic7\", \"Topic7\", \"Topic7\", \"Topic7\", \"Topic7\", \"Topic7\", \"Topic7\", \"Topic7\", \"Topic7\", \"Topic7\", \"Topic7\", \"Topic7\", \"Topic7\", \"Topic7\", \"Topic7\", \"Topic7\", \"Topic7\", \"Topic7\", \"Topic7\", \"Topic7\", \"Topic7\", \"Topic7\", \"Topic7\", \"Topic7\", \"Topic7\", \"Topic8\", \"Topic8\", \"Topic8\", \"Topic8\", \"Topic8\", \"Topic8\", \"Topic8\", \"Topic8\", \"Topic8\", \"Topic8\", \"Topic8\", \"Topic8\", \"Topic8\", \"Topic8\", \"Topic8\", \"Topic8\", \"Topic8\", \"Topic8\", \"Topic8\", \"Topic8\", \"Topic8\", \"Topic8\", \"Topic8\", \"Topic8\", \"Topic8\", \"Topic8\", \"Topic8\", \"Topic8\", \"Topic8\", \"Topic8\", \"Topic8\", \"Topic9\", \"Topic9\", \"Topic9\", \"Topic9\", \"Topic9\", \"Topic9\", \"Topic9\", \"Topic9\", \"Topic9\", \"Topic9\", \"Topic9\", \"Topic9\", \"Topic9\", \"Topic9\", \"Topic9\", \"Topic9\", \"Topic9\", \"Topic9\", \"Topic9\", \"Topic9\", \"Topic9\", \"Topic9\", \"Topic9\", \"Topic9\", \"Topic9\", \"Topic9\", \"Topic9\", \"Topic9\", \"Topic9\", \"Topic9\", \"Topic10\", \"Topic10\", \"Topic10\", \"Topic10\", \"Topic10\", \"Topic10\", \"Topic10\", \"Topic10\", \"Topic10\", \"Topic10\", \"Topic10\", \"Topic10\", \"Topic10\", \"Topic10\", \"Topic10\", \"Topic10\", \"Topic10\", \"Topic10\", \"Topic10\", \"Topic10\", \"Topic10\", \"Topic10\", \"Topic10\", \"Topic10\", \"Topic10\", \"Topic10\", \"Topic10\", \"Topic10\", \"Topic10\", \"Topic10\", \"Topic10\", \"Topic10\"], \"Freq\": [2583.0, 1817.0, 1602.0, 1606.0, 1594.0, 1504.0, 1645.0, 1081.0, 1047.0, 1009.0, 996.0, 1011.0, 898.0, 857.0, 885.0, 839.0, 1091.0, 785.0, 770.0, 752.0, 748.0, 721.0, 696.0, 673.0, 644.0, 662.0, 651.0, 631.0, 637.0, 581.0, 1011.3660908290086, 898.1768534465704, 884.9122705641678, 748.3567201621887, 695.5724993462704, 545.3073181499349, 443.03484023755004, 415.7870311367378, 413.9954953581347, 413.12103609609716, 359.9171005057525, 316.792112505283, 309.20606246205335, 294.3914058834599, 239.91342334643315, 235.85701059409513, 209.99398909011265, 201.28094379017193, 188.05250043285494, 171.64323901067803, 167.14493726279818, 155.1509695430269, 137.84544646077083, 137.0906035273169, 136.64398641185946, 136.26405555493267, 135.9373788760625, 128.28510437716795, 122.26606800388785, 121.90161317963636, 406.6397668465091, 824.8876215875022, 188.9003478471734, 1816.9980200662078, 1606.1860594880768, 636.8421414743394, 580.6796574185146, 457.22270742947165, 357.66420277526805, 341.7152712706978, 330.41576756110857, 309.15820309614384, 289.5282275717772, 280.50793880397, 272.14031489326686, 248.77304103379393, 246.83583955513453, 237.09803123729137, 211.24192004745484, 186.10531144950082, 182.62157583661897, 176.59038594177412, 172.63838299753507, 171.29788454353067, 164.32159434499914, 162.3598950001123, 158.53109857981536, 152.9391789691306, 151.80608479523536, 149.61417572589056, 142.72368867943896, 142.23223134295316, 138.7818684128344, 265.6687755077942, 1593.6882278434737, 1503.8289429775584, 721.4464042655343, 661.9342804385774, 593.9322929795276, 467.9734731060862, 401.9399677231648, 397.02892401435264, 394.6295535440908, 385.232363297411, 377.6521651386318, 289.1072710439311, 276.92134601387676, 267.30760394208045, 260.5565359905126, 202.1587919153584, 171.51740302017453, 171.5186674441383, 161.10215410360587, 156.11282597385838, 153.14326619207472, 150.22948581793372, 133.39184259457264, 125.93969235480981, 122.68574552900478, 118.19064698575359, 111.12690196165994, 104.80417726019033, 103.7269789162161, 103.00408746333011, 324.47880593011035, 804.1863873110966, 433.9522328719457, 1081.153263310463, 838.9872189020996, 751.6335996166954, 651.4909070464463, 456.1057184305378, 434.4357126117774, 410.25831326213387, 341.32176655384467, 330.4552064844115, 303.8426522844577, 298.2777429522388, 284.32428589453326, 278.4436758910163, 264.76734590995676, 256.7747270921035, 241.8385090449553, 214.1066000868996, 210.61567720744586, 198.8607074982858, 188.4913454063806, 180.53667432524966, 170.68857886155322, 168.9199726229153, 165.39661729966815, 152.4681349172302, 150.51753201932948, 145.8856614917961, 138.61799456440806, 137.29330602175628, 134.88721096566331, 561.4854842752595, 1602.171911884901, 673.2960240820299, 433.88840360752545, 348.680961842892, 335.3882797840516, 310.5208936500513, 296.4481787445112, 273.23749598927935, 264.09055585869015, 263.8060710756986, 252.45635462108655, 225.59948335453555, 220.43097175248255, 208.9583240746974, 204.83521228375193, 203.15234895502996, 196.80111977877246, 182.19133085271577, 175.68296332262582, 174.55671143749024, 171.01239861131555, 149.64767809758746, 147.3364248779405, 143.01863615674355, 140.8358620141067, 135.57962728474658, 128.6687261116044, 126.35165856516925, 125.9716205866953, 125.41361506894407, 294.18917121660087, 995.587655247807, 511.14091897080044, 498.6414560248249, 485.19525958993233, 383.0880702227621, 351.6505244126781, 340.6500306865488, 307.58391819645954, 282.096054665483, 268.3385088490383, 263.6887079966592, 263.1208675510356, 255.4870007656986, 251.52628264689585, 249.66472561649596, 239.7956845800749, 215.26983077847834, 212.43492745448953, 208.49407280536963, 208.1443059049033, 207.8885336983697, 202.95762956413344, 190.658024382031, 184.86303264538083, 179.57229837017385, 172.42419054301257, 169.5467085471832, 162.53776290546077, 159.76042774632378, 156.28305499936857, 242.98246466194027, 784.9361772742772, 770.2222681630152, 519.3477630497453, 366.17711782286597, 363.93854221341655, 344.5845473957036, 277.2214064134452, 229.1259166836878, 220.27491652948768, 216.2873817869646, 212.2942958092946, 207.0546444687177, 205.64300235327332, 185.5451098113227, 178.75353902402864, 178.4902265696949, 164.4649425735996, 162.69888347563685, 153.19070117885795, 152.7617636501798, 149.4925605729844, 144.27244006045245, 141.09491969061872, 133.38083602235994, 131.15436311598978, 127.97732136831438, 122.09844639612072, 118.26849492912537, 117.29178398536386, 114.62884000356628, 1758.6560612173214, 555.6862974571599, 396.11127444792953, 201.59080356753316, 1009.3691685688954, 576.4394505996044, 469.03274349570273, 440.3359551388127, 394.81327980879064, 302.80099925089075, 289.651581029915, 271.2717350560857, 269.2139178384302, 238.8155402268992, 238.8205728053825, 233.66291420144535, 233.37046450278714, 225.3688014876331, 220.89931341792135, 206.59912630983297, 205.60196477155205, 202.33133100175843, 196.8900045924161, 194.47634715766154, 187.67954398525222, 175.69511016223535, 171.14992613058453, 144.74640559794742, 142.76185699268586, 140.33412976131402, 138.34602800598066, 136.55825807244622, 135.2422077563756, 133.39063015931342, 1083.807320165104, 857.2185386782822, 631.084560787439, 581.1629017861403, 555.5667205679836, 427.19611641567667, 418.89011504225726, 354.94795968852867, 331.82788063513425, 328.8167032953124, 324.76825214570044, 300.8262974926291, 273.56191310746647, 262.98249796805095, 253.76365272626302, 241.0206971862271, 239.00028605115682, 223.4626618769629, 223.23826471889973, 217.57052918914187, 215.1350080760719, 203.25951879333428, 195.78031776502635, 195.04782271702825, 169.56577494613012, 167.65245822181248, 163.6854278046691, 156.4629159090925, 150.71476814934317, 149.29577893874045, 147.84075975674787, 1047.5120827225421, 644.1148179932392, 470.4287118215196, 443.6286042639164, 424.82216904665864, 395.3570848640387, 380.3378641964115, 351.72039876813284, 339.2442908552633, 320.7394161324149, 257.66273828171654, 254.14560564485228, 225.52199525665296, 225.34085146818083, 221.21794384304633, 195.95188642231076, 194.41894510113855, 192.48363428685664, 186.08955609643874, 183.6994616330347, 178.66422631456032, 176.5130362945063, 171.45788316326602, 147.81950805860527, 144.06077143124702, 139.59680755581266, 134.40321333037323, 130.11507582746304, 128.85109117899813, 125.43928150340051, 287.3114216200655, 181.61406920335455], \"Term\": [\"doe\", \"india\", \"like\", \"use\", \"good\", \"way\", \"people\", \"quora\", \"life\", \"know\", \"work\", \"time\", \"year\", \"money\", \"difference\", \"think\", \"learn\", \"thing\", \"indian\", \"question\", \"mean\", \"start\", \"book\", \"job\", \"trump\", \"want\", \"happen\", \"movie\", \"day\", \"online\", \"time\", \"year\", \"difference\", \"mean\", \"book\", \"love\", \"old\", \"improve\", \"woman\", \"man\", \"sex\", \"exam\", \"watch\", \"increase\", \"right\", \"laptop\", \"skill\", \"child\", \"body\", \"die\", \"white\", \"cat\", \"self\", \"point\", \"fat\", \"remove\", \"culture\", \"height\", \"level\", \"wear\", \"english\", \"doe\", \"new\", \"india\", \"use\", \"day\", \"note\", \"possible\", \"different\", \"free\", \"word\", \"month\", \"real\", \"human\", \"rupee\", \"effect\", \"important\", \"ban\", \"hair\", \"pakistan\", \"god\", \"term\", \"chinese\", \"non\", \"music\", \"late\", \"drive\", \"fall\", \"internet\", \"train\", \"sentence\", \"parent\", \"cell\", \"black\", \"good\", \"way\", \"start\", \"want\", \"feel\", \"buy\", \"person\", \"stop\", \"win\", \"write\", \"business\", \"tell\", \"guy\", \"service\", \"car\", \"easy\", \"rid\", \"build\", \"talk\", \"history\", \"sleep\", \"modi\", \"period\", \"family\", \"stock\", \"star\", \"small\", \"beginner\", \"determine\", \"strong\", \"friend\", \"learn\", \"girl\", \"quora\", \"think\", \"question\", \"happen\", \"change\", \"ask\", \"answer\", \"president\", \"card\", \"game\", \"earn\", \"create\", \"government\", \"song\", \"view\", \"energy\", \"state\", \"end\", \"leave\", \"consider\", \"law\", \"post\", \"dog\", \"united\", \"sell\", \"break\", \"try\", \"grow\", \"america\", \"states\", \"people\", \"like\", \"job\", \"live\", \"help\", \"place\", \"math\", \"video\", \"software\", \"bad\", \"iphone\", \"pay\", \"com\", \"earth\", \"interview\", \"relationship\", \"date\", \"download\", \"process\", \"tip\", \"power\", \"fact\", \"mechanical\", \"dream\", \"picture\", \"search\", \"digital\", \"bangalore\", \"house\", \"allow\", \"function\", \"google\", \"work\", \"account\", \"company\", \"phone\", \"app\", \"numb\", \"facebook\", \"instagram\", \"play\", \"android\", \"hack\", \"fast\", \"american\", \"datum\", \"delete\", \"mobile\", \"food\", \"china\", \"speak\", \"whatsapp\", \"password\", \"message\", \"social\", \"email\", \"support\", \"city\", \"send\", \"delhi\", \"gmail\", \"tech\", \"war\", \"thing\", \"indian\", \"lose\", \"come\", \"university\", \"look\", \"eat\", \"course\", \"cost\", \"product\", \"career\", \"safe\", \"employee\", \"age\", \"option\", \"police\", \"program\", \"project\", \"hotel\", \"kill\", \"join\", \"mba\", \"gain\", \"differ\", \"week\", \"machine\", \"muslim\", \"management\", \"photo\", \"complete\", \"doe\", \"new\", \"engineer\", \"major\", \"know\", \"world\", \"country\", \"compare\", \"website\", \"market\", \"computer\", \"experience\", \"science\", \"great\", \"class\", \"exist\", \"type\", \"home\", \"web\", \"problem\", \"affect\", \"reason\", \"believe\", \"usa\", \"mind\", \"design\", \"pro\", \"application\", \"invest\", \"story\", \"hate\", \"share\", \"universe\", \"common\", \"people\", \"money\", \"movie\", \"online\", \"need\", \"study\", \"weight\", \"prepare\", \"example\", \"big\", \"school\", \"clinton\", \"hillary\", \"test\", \"travel\", \"site\", \"water\", \"visit\", \"code\", \"idea\", \"average\", \"mark\", \"plan\", \"election\", \"girlfriend\", \"favorite\", \"score\", \"light\", \"kind\", \"review\", \"choose\", \"life\", \"trump\", \"language\", \"long\", \"student\", \"donald\", \"college\", \"high\", \"programme\", \"read\", \"wrong\", \"bank\", \"hard\", \"little\", \"true\", \"run\", \"apply\", \"follow\", \"future\", \"youtube\", \"control\", \"java\", \"salary\", \"chance\", \"worth\", \"dark\", \"degree\", \"require\", \"education\", \"stay\", \"learn\", \"engineer\"], \"Total\": [2583.0, 1817.0, 1602.0, 1606.0, 1594.0, 1504.0, 1645.0, 1081.0, 1047.0, 1009.0, 996.0, 1011.0, 898.0, 857.0, 885.0, 839.0, 1091.0, 785.0, 770.0, 752.0, 748.0, 721.0, 696.0, 673.0, 644.0, 662.0, 651.0, 631.0, 637.0, 581.0, 1011.8040401399364, 898.6148034072075, 885.3502070672909, 748.7946454544164, 696.0104358835533, 545.745246893488, 443.4727734912345, 416.22495327660687, 414.43342161318867, 413.55896593257324, 360.3550206592331, 317.2300491123437, 309.6440065952751, 294.82933780308036, 240.35137694573854, 236.2949458093348, 210.43191887888588, 201.7188847498796, 188.49044001235293, 172.08117273324893, 167.5828822531933, 155.58890026763737, 138.28338488329942, 137.5285507105063, 137.08192476116585, 136.70200663339605, 136.37531622605533, 128.72301915247607, 122.70402143861745, 122.33954968271325, 519.8403874889988, 2583.931937729026, 744.9748923721779, 1817.4355237873035, 1606.6235710701415, 637.2796557827245, 581.1171314045077, 457.66022271639235, 358.1017196470999, 342.1527826658008, 330.8532580428745, 309.5957217100432, 289.9657326923267, 280.9454422838194, 272.57778304202947, 249.2105362993643, 247.2733454667628, 237.5355033099852, 211.6794041487396, 186.54279563990102, 183.0590682461544, 177.0279148755881, 173.07589114927214, 171.73540484093317, 164.75909486316817, 162.79741210167424, 158.968615203289, 153.37668072483655, 152.24358585428155, 150.05168433124283, 143.16116383822097, 142.66974860777628, 139.21936916044965, 348.2367450375665, 1594.1276013216386, 1504.26829976703, 721.885762147561, 662.3736613903769, 594.3716588996672, 468.4128325982835, 402.37933343690617, 397.46828505848794, 395.06892468162386, 385.67172485119426, 378.09152317217684, 289.5466378955685, 277.36069863449194, 267.74698136498995, 260.99589092071903, 202.59814135501549, 171.95674944115504, 171.95803803137403, 161.54150299606243, 156.55220268252936, 153.58261978684158, 150.66884895210748, 133.831211410108, 126.3790580258738, 123.1251106488308, 118.62999271797554, 111.56627375677795, 105.24352305260555, 104.16634604680662, 103.44347546175364, 366.44111587638685, 1091.8881709387992, 552.3817033715987, 1081.5906611757352, 839.4246427508452, 752.0709987447816, 651.9283349068797, 456.5431496041164, 434.87312257207753, 410.69570984695326, 341.759191314066, 330.89261901269487, 304.28007429463275, 298.7151751158647, 284.7617125626828, 278.88112224857497, 265.2047578884164, 257.21215230303824, 242.2759163951591, 214.54404371826848, 211.05311508565157, 199.29814531677366, 188.92878091696247, 180.97409742341458, 171.12600691679654, 169.35739161805063, 165.83402204213033, 152.9055618115576, 150.95496687275732, 146.32310629199108, 139.0554164354509, 137.7307308865215, 135.32461092407348, 1645.6810844775157, 1602.6096898687638, 673.7337955336615, 434.326176376774, 349.11876478218767, 335.82604892342806, 310.95864283898356, 296.88594744005036, 273.6752778787819, 264.5283328966387, 264.2438342511024, 252.89413595284992, 226.03723771391688, 220.86873990011475, 209.39608314701726, 205.27297660768676, 203.59012643439846, 197.23888455480792, 182.62909899685687, 176.1207282550244, 174.99448772162353, 171.45016921920734, 150.08546739872418, 147.77418173483363, 143.456399678887, 141.27365642462527, 136.0174033989734, 129.10649974684554, 126.78943171428848, 126.40941347379706, 125.85137282030819, 417.88189003189933, 996.0244131791046, 511.5776448771043, 499.07821052779724, 485.6319860871111, 383.5248021207949, 352.0872613561602, 341.08676200635466, 308.02064279385894, 282.5328059890893, 268.7752310867026, 264.12543389285173, 263.5576192008056, 255.9237655692471, 251.9630283509321, 250.10144433093106, 240.23241327827327, 215.70658347154765, 212.8716837186227, 208.93081008855796, 208.58102486037947, 208.32524469699, 203.39434962061438, 191.09477242111572, 185.29975675027544, 180.00905012006817, 172.86095475788102, 169.98344368409414, 162.97451472680103, 160.19713848880073, 156.71982292352422, 354.5939658575083, 785.3725756630494, 770.6586787268297, 519.7841629530786, 366.6135299619516, 364.37493669998815, 345.0209544777513, 277.6577929139698, 229.56231466999884, 220.71130768768506, 216.72378980042515, 212.73069387211288, 207.49103245272389, 206.07938861631408, 185.9815160755555, 179.1899406824541, 178.92660908023538, 164.90135084028805, 163.13529123149465, 153.6270737541478, 153.19816346092963, 149.92895697345244, 144.70883308912516, 141.5313180945628, 133.81723678561056, 131.59076694803034, 128.4137241242162, 122.53484828662044, 118.70489334044288, 117.72819041774999, 115.06524163310053, 2583.931937729026, 744.9748923721779, 578.1127603248581, 292.0858370137004, 1009.8061320721937, 576.8763994699874, 469.46970239994624, 440.7729205082096, 395.25023634369904, 303.2379642960201, 290.088534854476, 271.7086998628093, 269.6508734242386, 239.252496809918, 239.2575463843744, 234.09986453499317, 233.8074312140801, 225.8057657265605, 221.3362790006399, 207.03608934828753, 206.0389457192181, 202.76829267455815, 197.32695317833262, 194.91331978956123, 188.116488858035, 176.1320684092505, 171.58688822424838, 145.18337429891278, 143.19881915854543, 140.77108313202945, 138.7829787826389, 136.99522248410662, 135.67916020791034, 133.827583245028, 1645.6810844775157, 857.6563026530113, 631.5223047564309, 581.6006596840598, 556.0044967614006, 427.6338806335018, 419.32786753459595, 355.38571418883276, 332.26563737025987, 329.2544648208867, 325.20602384073794, 301.264033745881, 273.9996508706928, 263.4202488203359, 254.20141149748508, 241.45845681099937, 239.43803922913057, 223.90042713642492, 223.67603488092146, 218.00830179649952, 215.57276786237628, 203.69727182208624, 196.218093425929, 195.4855699568675, 170.00354547507027, 168.09019776157615, 164.12319118112572, 156.90068822381178, 151.15254473163228, 149.73352253836356, 148.2785351302274, 1047.9491939368038, 644.5519176754193, 470.8658132129913, 444.06573281156716, 425.2592809352835, 395.7941776008892, 380.7749776021116, 352.15752798489774, 339.6813872822358, 321.1765356210422, 258.09985981097606, 254.58273622559662, 225.9591189931423, 225.77798934248966, 221.65507118073705, 196.3890124660623, 194.8560649928887, 192.92076468234168, 186.52668215132798, 184.13658523289098, 179.10133659034454, 176.95015292782722, 171.8950051570201, 148.25663287987166, 144.49788948968174, 140.03395663104692, 134.84031945349665, 130.55220419539015, 129.28820461460973, 125.87640087277202, 1091.8881709387992, 578.1127603248581], \"loglift\": [30.0, 29.0, 28.0, 27.0, 26.0, 25.0, 24.0, 23.0, 22.0, 21.0, 20.0, 19.0, 18.0, 17.0, 16.0, 15.0, 14.0, 13.0, 12.0, 11.0, 10.0, 9.0, 8.0, 7.0, 6.0, 5.0, 4.0, 3.0, 2.0, 1.0, 2.2551, 2.2551, 2.2551, 2.255, 2.2549, 2.2548, 2.2546, 2.2545, 2.2545, 2.2545, 2.2544, 2.2542, 2.2542, 2.2541, 2.2538, 2.2537, 2.2535, 2.2534, 2.2533, 2.253, 2.253, 2.2528, 2.2524, 2.2524, 2.2524, 2.2524, 2.2524, 2.2522, 2.252, 2.252, 2.01, 1.1138, 0.8834, 2.258, 2.258, 2.2576, 2.2575, 2.2573, 2.257, 2.257, 2.2569, 2.2568, 2.2567, 2.2567, 2.2567, 2.2565, 2.2565, 2.2564, 2.2562, 2.2559, 2.2559, 2.2558, 2.2557, 2.2557, 2.2556, 2.2556, 2.2555, 2.2554, 2.2554, 2.2553, 2.2552, 2.2552, 2.2551, 1.9876, 2.2623, 2.2623, 2.262, 2.2619, 2.2619, 2.2617, 2.2615, 2.2615, 2.2615, 2.2615, 2.2614, 2.2611, 2.261, 2.261, 2.2609, 2.2604, 2.26, 2.26, 2.2599, 2.2598, 2.2597, 2.2597, 2.2593, 2.2591, 2.259, 2.2589, 2.2587, 2.2584, 2.2584, 2.2583, 2.141, 1.9568, 2.0213, 2.2812, 2.2811, 2.2811, 2.281, 2.2807, 2.2806, 2.2806, 2.2804, 2.2803, 2.2802, 2.2802, 2.2801, 2.2801, 2.28, 2.2799, 2.2798, 2.2796, 2.2796, 2.2794, 2.2793, 2.2792, 2.2791, 2.279, 2.279, 2.2788, 2.2787, 2.2786, 2.2785, 2.2785, 2.2784, 1.2063, 2.3145, 2.3141, 2.3137, 2.3135, 2.3134, 2.3133, 2.3133, 2.3131, 2.3131, 2.3131, 2.313, 2.3128, 2.3128, 2.3126, 2.3126, 2.3126, 2.3125, 2.3123, 2.3122, 2.3122, 2.3122, 2.3118, 2.3118, 2.3117, 2.3116, 2.3115, 2.3113, 2.3113, 2.3113, 2.3113, 1.9638, 2.3223, 2.3219, 2.3218, 2.3218, 2.3216, 2.3215, 2.3214, 2.3213, 2.3212, 2.3211, 2.3211, 2.3211, 2.321, 2.321, 2.321, 2.3209, 2.3207, 2.3207, 2.3206, 2.3206, 2.3206, 2.3206, 2.3204, 2.3204, 2.3203, 2.3202, 2.3202, 2.32, 2.32, 2.3199, 1.9447, 2.3235, 2.3235, 2.3233, 2.3229, 2.3229, 2.3228, 2.3225, 2.3222, 2.3221, 2.3221, 2.322, 2.322, 2.322, 2.3217, 2.3217, 2.3217, 2.3214, 2.3214, 2.3213, 2.3212, 2.3212, 2.3211, 2.321, 2.3208, 2.3208, 2.3207, 2.3205, 2.3204, 2.3204, 2.3203, 1.9393, 2.0309, 1.946, 1.9533, 2.3274, 2.327, 2.3269, 2.3268, 2.3267, 2.3263, 2.3263, 2.3262, 2.3262, 2.326, 2.326, 2.3259, 2.3259, 2.3259, 2.3258, 2.3257, 2.3257, 2.3256, 2.3256, 2.3255, 2.3255, 2.3253, 2.3252, 2.3248, 2.3247, 2.3247, 2.3246, 2.3246, 2.3246, 2.3245, 1.9101, 2.3372, 2.337, 2.3369, 2.3369, 2.3366, 2.3366, 2.3364, 2.3364, 2.3363, 2.3363, 2.3362, 2.3361, 2.336, 2.3359, 2.3359, 2.3358, 2.3357, 2.3357, 2.3357, 2.3356, 2.3355, 2.3354, 2.3354, 2.3351, 2.3351, 2.335, 2.3349, 2.3348, 2.3347, 2.3347, 2.3459, 2.3456, 2.3454, 2.3453, 2.3453, 2.3452, 2.3451, 2.345, 2.345, 2.3449, 2.3446, 2.3446, 2.3443, 2.3443, 2.3443, 2.3441, 2.344, 2.344, 2.3439, 2.3439, 2.3438, 2.3438, 2.3437, 2.3433, 2.3433, 2.3432, 2.343, 2.3429, 2.3429, 2.3428, 1.0112, 1.1884], \"logprob\": [30.0, 29.0, 28.0, 27.0, 26.0, 25.0, 24.0, 23.0, 22.0, 21.0, 20.0, 19.0, 18.0, 17.0, 16.0, 15.0, 14.0, 13.0, 12.0, 11.0, 10.0, 9.0, 8.0, 7.0, 6.0, 5.0, 4.0, 3.0, 2.0, 1.0, -3.1204, -3.2391, -3.254, -3.4216, -3.4948, -3.7382, -3.9459, -4.0093, -4.0136, -4.0158, -4.1536, -4.2813, -4.3055, -4.3546, -4.5592, -4.5763, -4.6924, -4.7348, -4.8028, -4.8941, -4.9206, -4.9951, -5.1134, -5.1189, -5.1221, -5.1249, -5.1273, -5.1852, -5.2333, -5.2363, -4.0316, -3.3243, -4.7983, -2.5319, -2.6552, -3.5803, -3.6726, -3.9117, -4.1572, -4.2028, -4.2365, -4.303, -4.3686, -4.4002, -4.4305, -4.5203, -4.5281, -4.5683, -4.6838, -4.8105, -4.8294, -4.863, -4.8856, -4.8934, -4.935, -4.947, -4.9709, -5.0068, -5.0142, -5.0288, -5.0759, -5.0794, -5.1039, -4.4546, -2.6587, -2.7167, -3.4512, -3.5373, -3.6457, -3.8841, -4.0362, -4.0485, -4.0545, -4.0786, -4.0985, -4.3657, -4.4087, -4.4441, -4.4697, -4.7234, -4.8878, -4.8878, -4.9504, -4.9819, -5.0011, -5.0203, -5.1392, -5.1967, -5.2229, -5.2602, -5.3218, -5.3804, -5.3907, -5.3977, -4.2503, -3.3427, -3.9595, -3.0277, -3.2813, -3.3912, -3.5342, -3.8907, -3.9394, -3.9967, -4.1806, -4.213, -4.2969, -4.3154, -4.3633, -4.3842, -4.4346, -4.4652, -4.5252, -4.647, -4.6634, -4.7208, -4.7744, -4.8175, -4.8736, -4.884, -4.9051, -4.9865, -4.9994, -5.0306, -5.0817, -5.0913, -5.109, -3.6829, -2.6012, -3.4682, -3.9076, -4.1262, -4.1651, -4.2421, -4.2885, -4.37, -4.4041, -4.4051, -4.4491, -4.5616, -4.5848, -4.6382, -4.6581, -4.6664, -4.6982, -4.7753, -4.8117, -4.8181, -4.8386, -4.9721, -4.9876, -5.0174, -5.0328, -5.0708, -5.1231, -5.1413, -5.1443, -5.1487, -4.2961, -3.069, -3.7357, -3.7605, -3.7878, -4.0241, -4.1097, -4.1415, -4.2436, -4.3301, -4.3801, -4.3976, -4.3997, -4.4292, -4.4448, -4.4522, -4.4926, -4.6005, -4.6137, -4.6324, -4.6341, -4.6354, -4.6594, -4.7219, -4.7527, -4.7818, -4.8224, -4.8392, -4.8814, -4.8987, -4.9207, -4.4794, -3.3054, -3.3243, -3.7184, -4.0679, -4.074, -4.1286, -4.3462, -4.5367, -4.5761, -4.5944, -4.613, -4.638, -4.6448, -4.7477, -4.785, -4.7865, -4.8683, -4.8791, -4.9393, -4.9421, -4.9637, -4.9993, -5.0216, -5.0778, -5.0946, -5.1191, -5.1662, -5.198, -5.2063, -5.2293, -2.4987, -3.6508, -3.9893, -4.6647, -3.0502, -3.6104, -3.8166, -3.8798, -3.9889, -4.2542, -4.2986, -4.3642, -4.3718, -4.4916, -4.4916, -4.5134, -4.5147, -4.5496, -4.5696, -4.6365, -4.6413, -4.6574, -4.6846, -4.697, -4.7326, -4.7985, -4.8248, -4.9923, -5.0061, -5.0233, -5.0375, -5.0505, -5.0602, -5.074, -2.9791, -3.2037, -3.51, -3.5924, -3.6374, -3.9002, -3.9198, -4.0854, -4.1528, -4.1619, -4.1743, -4.2509, -4.3459, -4.3853, -4.421, -4.4725, -4.4809, -4.5482, -4.5492, -4.5749, -4.5861, -4.6429, -4.6804, -4.6842, -4.8242, -4.8355, -4.8595, -4.9046, -4.942, -4.9515, -4.9613, -2.9946, -3.4809, -3.7952, -3.8538, -3.8971, -3.969, -4.0077, -4.086, -4.1221, -4.1782, -4.3971, -4.4109, -4.5304, -4.5312, -4.5496, -4.6709, -4.6788, -4.6888, -4.7226, -4.7355, -4.7633, -4.7754, -4.8045, -4.9528, -4.9786, -5.01, -5.048, -5.0804, -5.0901, -5.117, -4.2882, -4.7469]}, \"token.table\": {\"Topic\": [6, 8, 7, 5, 4, 6, 6, 4, 6, 8, 10, 4, 9, 5, 2, 5, 10, 3, 8, 9, 2, 5, 1, 1, 4, 3, 3, 3, 3, 4, 7, 1, 2, 10, 4, 1, 6, 2, 9, 6, 8, 9, 9, 10, 5, 7, 8, 6, 8, 7, 8, 4, 10, 7, 8, 7, 4, 1, 10, 5, 6, 2, 10, 6, 6, 8, 3, 1, 7, 1, 2, 5, 1, 7, 4, 10, 5, 5, 2, 4, 5, 3, 7, 10, 2, 9, 6, 7, 4, 4, 7, 10, 1, 6, 1, 9, 8, 8, 6, 5, 2, 3, 6, 1, 9, 3, 10, 6, 2, 3, 6, 5, 10, 7, 4, 3, 5, 9, 6, 2, 3, 4, 5, 4, 8, 4, 3, 6, 2, 4, 10, 8, 1, 5, 10, 9, 3, 8, 7, 5, 2, 9, 2, 1, 1, 2, 7, 6, 2, 5, 8, 5, 10, 5, 7, 7, 9, 8, 10, 1, 2, 4, 3, 10, 4, 1, 10, 9, 5, 10, 5, 10, 7, 7, 1, 7, 7, 8, 1, 7, 9, 8, 5, 7, 1, 5, 6, 8, 6, 3, 9, 2, 9, 2, 7, 9, 1, 7, 2, 2, 6, 1, 9, 7, 2, 2, 6, 5, 4, 8, 3, 3, 6, 7, 5, 5, 9, 6, 1, 7, 2, 4, 5, 9, 4, 8, 8, 5, 7, 7, 10, 7, 4, 4, 10, 2, 8, 5, 1, 10, 9, 3, 1, 10, 2, 7, 10, 9, 8, 9, 5, 1, 4, 6, 2, 3, 1, 8, 9, 1, 3, 3, 6, 5, 4, 6, 3, 3, 4, 4, 10, 3, 3, 8, 3, 10, 9, 6, 3, 6, 3, 2, 9, 7, 4, 1, 5, 2, 9, 10, 10, 4, 8, 4, 8, 7, 8, 2, 5, 4, 9, 3, 2, 6, 1, 9, 3, 1, 8, 8, 7, 9, 6, 1, 3, 1, 2, 6, 8, 10, 3, 10, 1, 10], \"Freq\": [0.998870855904497, 0.9998109788463431, 1.0000993858144323, 0.9967612105574565, 0.9946944964147212, 0.9963904658592672, 0.9971156900002719, 0.9983060211483278, 0.9986316344656385, 0.9987369469830943, 0.9956066802800316, 0.9979922360643643, 0.9973430416649753, 0.9980027360742294, 0.9977455862280665, 0.9991751015862534, 0.9977110143671319, 0.9976860993860512, 0.9983430891063466, 0.9992271484578801, 0.763848168783294, 0.2354719918805643, 0.9973980642608676, 0.9999850061392541, 1.0002983215999817, 1.000244024467285, 0.9997579338161063, 0.9991186565150372, 1.0000157438466424, 0.997302390680825, 0.9965651695163832, 0.9962150239083613, 0.9984242913771803, 0.9982689956267953, 0.9988102995202373, 0.9964362050148602, 0.9959051213228768, 0.9995615151898499, 0.9981215411254045, 0.995019379829951, 0.9989235600370129, 0.9991235802608162, 0.9969776159467358, 0.9979647360049971, 0.9998352584985841, 0.9983264939457764, 0.9938160487923274, 0.9998432900372177, 0.9982464428456302, 0.9994330031191473, 0.9996948005734856, 0.9950839627903454, 0.9994341941144955, 0.9967772032383062, 0.9989995043395876, 0.9975504922451789, 0.9973250878573954, 0.9972479167312565, 0.9997575114503379, 0.997101399538702, 1.000146734420958, 0.9995611725869689, 0.9937680401759471, 0.9995943872647259, 1.0001563758188923, 0.9992501739720467, 0.998403073035394, 0.9995282881214741, 0.9938928885004563, 0.9996044423274594, 0.9997159476162244, 0.999872050204323, 0.31928085564245884, 0.680745484939497, 0.9978897193996903, 0.997993458100614, 0.9987888566935109, 0.9947610487451535, 1.0001974276285346, 0.9976058293135348, 0.996066714101291, 0.997047646385031, 0.9976309221971897, 0.9977708359747989, 0.9991551870057718, 0.9975160828649673, 0.9983823143886832, 0.9996147668291957, 0.9997483330884265, 0.9988611480692572, 0.6849874750688365, 0.3148174759154754, 0.7829326266201532, 0.2173744147618607, 0.9992748192897003, 0.9992005271072799, 0.9995734105391665, 0.9973916924148284, 0.9997456306839811, 0.9973743436868133, 0.9975440808664238, 0.9970006262762601, 0.9978842607453485, 0.9994023664220605, 0.9994633966597857, 0.9993747028578799, 0.9952272391006858, 0.9967243305226201, 0.9995534665402676, 0.8841802569701166, 0.11461595923686697, 0.993235093100464, 0.9971763709874993, 0.9962459326902628, 0.9990795509851179, 0.7856885869878987, 0.21362039922712453, 0.9999791446992452, 0.9987694006855528, 0.9996773268501784, 0.9999199553903133, 0.2943415422731306, 0.7035480766528487, 0.9968405095279644, 0.9989446429471597, 0.9996014794901814, 0.9986995322831687, 0.9995250972577574, 0.9967904097638984, 0.998576016937487, 1.0001809221377735, 0.994358250633421, 0.9943831401932887, 0.9996598155293607, 0.9995526775025962, 1.0000012741961755, 0.996472724924547, 0.9964315980862232, 0.9959182080422145, 0.993773678897249, 1.0001941932773037, 0.9999619198148368, 0.9988945615377718, 0.9994595391870766, 0.9971870580816001, 0.9997603635553486, 0.9991453042118231, 0.9999329824336717, 0.9984000255057399, 0.998108450067143, 0.9986115866058553, 0.999077237689222, 1.0002817012099057, 0.9989108524189733, 0.9938040189686844, 0.9987064893178033, 0.9989907895239004, 0.9992016962002999, 0.9981612315256371, 0.9987517895978495, 0.9951018134048948, 1.0001431286408067, 0.7363391429625301, 0.26284743038587827, 0.9985040236260113, 0.9942624420099415, 1.0000484814182693, 0.9942595011277007, 0.9996195643439459, 0.9965541842907037, 0.9992490059441155, 0.9998519750417332, 0.9999392660721637, 0.998491368131296, 0.998634441806447, 0.9967781938648863, 0.691577524145839, 0.30812859986695795, 0.9986484008844717, 0.9940618004817943, 0.9965769211543725, 0.9992152555944882, 1.0001329989114913, 0.9951016598365588, 0.9989387671783709, 0.9994305418092405, 0.9980611574443934, 0.9993807621078717, 0.9990325482098702, 0.9955608013417552, 0.9992347719582062, 0.9980758076799228, 0.9991729432951186, 0.995392698267743, 0.9956351332367965, 0.9999919123650497, 0.25369982523596046, 0.746333877413725, 0.995717802967802, 0.9997984375297547, 0.9997521598599618, 0.9989339289365781, 0.9989672300502787, 0.9989400036534936, 0.9970902353101386, 0.9953056018230078, 0.9984387648387834, 0.9964643863746345, 0.34089229395141946, 0.6586938442840261, 0.993789106432274, 0.9990572740561348, 0.9986986316692127, 0.9938146469833091, 0.9968185477963436, 0.9975402476190391, 0.9988885152122257, 0.9981141800959218, 0.9961567928420996, 0.9948212896617301, 0.9985573954571064, 0.9992636600417036, 1.0000314997257813, 0.9989146604001425, 0.9977785782113221, 0.9965796441072969, 0.9998256857130506, 0.9965553189480079, 0.9966603121831172, 0.9945339996567946, 0.9979940399805609, 0.9991706807860313, 0.9999055956885718, 0.9994538958249758, 0.9994503470787465, 1.0001181770940832, 0.9962109821786029, 0.9986701775742821, 0.9948646940108299, 0.9957702422659698, 0.9951011468512295, 1.0002515199838653, 0.9985380697618477, 0.9980191739793512, 0.997880300310681, 0.997633476266808, 0.994793303294633, 0.9993664820894005, 0.997586236543671, 0.9992493980878683, 0.9980629338013115, 0.9979506946294483, 0.9940776398135628, 1.000097399579318, 0.9988742488961385, 0.9972101221788504, 0.9990148030723045, 1.000034873594909, 0.9981013014948645, 0.9979474649987179, 0.9962064731826413, 0.9949243284936408, 0.9995040553966235, 0.9975325579861802, 0.9992279252829146, 0.9955448883380894, 0.9946894313694071, 0.9987729884782242, 0.9974641863328404, 0.997601242509719, 0.9930376077906944, 0.9989838738160599, 0.9988218303797018, 0.9945224323428253, 0.9957128715970337, 0.9993902991729815, 0.9985177024969052, 0.9999497240829718, 0.9966479017093481, 0.9954069439966412, 0.9981120903370129, 0.9998423137073738, 0.9984046449647743, 0.9995256064769835, 0.9994941264180026, 0.9992053400579175, 0.999314514218624, 0.9996555564739364, 0.9992076696337028, 0.9970446370694451, 0.9991437188218913, 0.9977918300111377, 0.9965465973006614, 0.9949707422405853, 0.9949943660701495, 0.9989710140236762, 0.9953142258797536, 0.9996118748153768, 0.9970158660331027, 0.9991751855379357, 0.9959784483310686, 0.9994358752285039, 0.3130340916308902, 0.6852908492460028, 0.9979201709655022, 0.9981705528890028, 0.999821641015056, 0.9972245305496557, 0.9984806873859168, 0.9993668913496071, 0.9955105744746997, 0.9992181117450561, 0.9972143925327417, 0.9965218270186292, 0.9998255375775774, 0.9989541827695712, 0.9974210378101706, 0.9999754893767847, 0.9984807846693111, 0.9965543476694357, 0.9982582989420512, 0.9996130962215586, 0.9993158320952688, 0.9992582395686429], \"Term\": [\"account\", \"affect\", \"age\", \"allow\", \"america\", \"american\", \"android\", \"answer\", \"app\", \"application\", \"apply\", \"ask\", \"average\", \"bad\", \"ban\", \"bangalore\", \"bank\", \"beginner\", \"believe\", \"big\", \"black\", \"black\", \"body\", \"book\", \"break\", \"build\", \"business\", \"buy\", \"car\", \"card\", \"career\", \"cat\", \"cell\", \"chance\", \"change\", \"child\", \"china\", \"chinese\", \"choose\", \"city\", \"class\", \"clinton\", \"code\", \"college\", \"com\", \"come\", \"common\", \"company\", \"compare\", \"complete\", \"computer\", \"consider\", \"control\", \"cost\", \"country\", \"course\", \"create\", \"culture\", \"dark\", \"date\", \"datum\", \"day\", \"degree\", \"delete\", \"delhi\", \"design\", \"determine\", \"die\", \"differ\", \"difference\", \"different\", \"digital\", \"doe\", \"doe\", \"dog\", \"donald\", \"download\", \"dream\", \"drive\", \"earn\", \"earth\", \"easy\", \"eat\", \"education\", \"effect\", \"election\", \"email\", \"employee\", \"end\", \"energy\", \"engineer\", \"engineer\", \"english\", \"english\", \"exam\", \"example\", \"exist\", \"experience\", \"facebook\", \"fact\", \"fall\", \"family\", \"fast\", \"fat\", \"favorite\", \"feel\", \"follow\", \"food\", \"free\", \"friend\", \"friend\", \"function\", \"future\", \"gain\", \"game\", \"girl\", \"girl\", \"girlfriend\", \"gmail\", \"god\", \"good\", \"google\", \"google\", \"government\", \"great\", \"grow\", \"guy\", \"hack\", \"hair\", \"happen\", \"hard\", \"hate\", \"height\", \"help\", \"high\", \"hillary\", \"history\", \"home\", \"hotel\", \"house\", \"human\", \"idea\", \"important\", \"improve\", \"increase\", \"india\", \"indian\", \"instagram\", \"internet\", \"interview\", \"invest\", \"iphone\", \"java\", \"job\", \"join\", \"kill\", \"kind\", \"know\", \"language\", \"laptop\", \"late\", \"law\", \"learn\", \"learn\", \"leave\", \"level\", \"life\", \"light\", \"like\", \"little\", \"live\", \"long\", \"look\", \"lose\", \"love\", \"machine\", \"major\", \"major\", \"man\", \"management\", \"mark\", \"market\", \"math\", \"mba\", \"mean\", \"mechanical\", \"message\", \"mind\", \"mobile\", \"modi\", \"money\", \"month\", \"movie\", \"music\", \"muslim\", \"need\", \"new\", \"new\", \"non\", \"note\", \"numb\", \"old\", \"online\", \"option\", \"pakistan\", \"parent\", \"password\", \"pay\", \"people\", \"people\", \"period\", \"person\", \"phone\", \"photo\", \"picture\", \"place\", \"plan\", \"play\", \"point\", \"police\", \"possible\", \"post\", \"power\", \"prepare\", \"president\", \"pro\", \"problem\", \"process\", \"product\", \"program\", \"programme\", \"project\", \"question\", \"quora\", \"read\", \"real\", \"reason\", \"relationship\", \"remove\", \"require\", \"review\", \"rid\", \"right\", \"run\", \"rupee\", \"safe\", \"salary\", \"school\", \"science\", \"score\", \"search\", \"self\", \"sell\", \"send\", \"sentence\", \"service\", \"sex\", \"share\", \"site\", \"skill\", \"sleep\", \"small\", \"social\", \"software\", \"song\", \"speak\", \"star\", \"start\", \"state\", \"states\", \"stay\", \"stock\", \"stop\", \"story\", \"strong\", \"student\", \"study\", \"support\", \"talk\", \"tech\", \"tell\", \"term\", \"test\", \"thing\", \"think\", \"time\", \"tip\", \"train\", \"travel\", \"true\", \"trump\", \"try\", \"type\", \"united\", \"universe\", \"university\", \"usa\", \"use\", \"video\", \"view\", \"visit\", \"want\", \"war\", \"war\", \"watch\", \"water\", \"way\", \"wear\", \"web\", \"website\", \"week\", \"weight\", \"whatsapp\", \"white\", \"win\", \"woman\", \"word\", \"work\", \"world\", \"worth\", \"write\", \"wrong\", \"year\", \"youtube\"]}, \"R\": 30, \"lambda.step\": 0.01, \"plot.opts\": {\"xlab\": \"PC1\", \"ylab\": \"PC2\"}, \"topic.order\": [3, 6, 1, 5, 2, 10, 8, 7, 4, 9]};\n",
       "\n",
       "function LDAvis_load_lib(url, callback){\n",
       "  var s = document.createElement('script');\n",
       "  s.src = url;\n",
       "  s.async = true;\n",
       "  s.onreadystatechange = s.onload = callback;\n",
       "  s.onerror = function(){console.warn(\"failed to load library \" + url);};\n",
       "  document.getElementsByTagName(\"head\")[0].appendChild(s);\n",
       "}\n",
       "\n",
       "if(typeof(LDAvis) !== \"undefined\"){\n",
       "   // already loaded: just create the visualization\n",
       "   !function(LDAvis){\n",
       "       new LDAvis(\"#\" + \"ldavis_el94981125218030003746045819\", ldavis_el94981125218030003746045819_data);\n",
       "   }(LDAvis);\n",
       "}else if(typeof define === \"function\" && define.amd){\n",
       "   // require.js is available: use it to load d3/LDAvis\n",
       "   require.config({paths: {d3: \"https://cdnjs.cloudflare.com/ajax/libs/d3/3.5.5/d3.min\"}});\n",
       "   require([\"d3\"], function(d3){\n",
       "      window.d3 = d3;\n",
       "      LDAvis_load_lib(\"https://cdn.rawgit.com/bmabey/pyLDAvis/files/ldavis.v1.0.0.js\", function(){\n",
       "        new LDAvis(\"#\" + \"ldavis_el94981125218030003746045819\", ldavis_el94981125218030003746045819_data);\n",
       "      });\n",
       "    });\n",
       "}else{\n",
       "    // require.js not available: dynamically load d3 & LDAvis\n",
       "    LDAvis_load_lib(\"https://cdnjs.cloudflare.com/ajax/libs/d3/3.5.5/d3.min.js\", function(){\n",
       "         LDAvis_load_lib(\"https://cdn.rawgit.com/bmabey/pyLDAvis/files/ldavis.v1.0.0.js\", function(){\n",
       "                 new LDAvis(\"#\" + \"ldavis_el94981125218030003746045819\", ldavis_el94981125218030003746045819_data);\n",
       "            })\n",
       "         });\n",
       "}\n",
       "</script>"
      ],
      "text/plain": [
       "PreparedData(topic_coordinates=                x           y  topics  cluster       Freq\n",
       "topic                                                    \n",
       "2     -367.960510 -213.068008       1        1  10.481291\n",
       "5      180.153427 -283.704468       2        1  10.453228\n",
       "0      135.331894  244.676605       3        1  10.407971\n",
       "4       96.131157  -36.401863       4        1  10.211719\n",
       "1     -109.438972   97.462044       5        1   9.879227\n",
       "9     -369.286804   79.572792       6        1   9.800612\n",
       "7      -89.384140 -399.099976       7        1   9.787193\n",
       "6     -122.715385 -147.683182       8        1   9.751104\n",
       "3     -161.939529  341.060791       9        1   9.655237\n",
       "8      341.203308    7.842676      10        1   9.572419, topic_info=     Category         Freq        Term        Total  loglift  logprob\n",
       "term                                                                 \n",
       "2093  Default  2583.000000         doe  2583.000000  30.0000  30.0000\n",
       "3377  Default  1817.000000       india  1817.000000  29.0000  29.0000\n",
       "3970  Default  1602.000000        like  1602.000000  28.0000  28.0000\n",
       "7358  Default  1606.000000         use  1606.000000  27.0000  27.0000\n",
       "2902  Default  1594.000000        good  1594.000000  26.0000  26.0000\n",
       "7580  Default  1504.000000         way  1504.000000  25.0000  25.0000\n",
       "5072  Default  1645.000000      people  1645.000000  24.0000  24.0000\n",
       "5591  Default  1081.000000       quora  1081.000000  23.0000  23.0000\n",
       "3962  Default  1047.000000        life  1047.000000  22.0000  22.0000\n",
       "3800  Default  1009.000000        know  1009.000000  21.0000  21.0000\n",
       "7685  Default   996.000000        work   996.000000  20.0000  20.0000\n",
       "7039  Default  1011.000000        time  1011.000000  19.0000  19.0000\n",
       "7730  Default   898.000000        year   898.000000  18.0000  18.0000\n",
       "4457  Default   857.000000       money   857.000000  17.0000  17.0000\n",
       "1968  Default   885.000000  difference   885.000000  16.0000  16.0000\n",
       "7000  Default   839.000000       think   839.000000  15.0000  15.0000\n",
       "3898  Default  1091.000000       learn  1091.000000  14.0000  14.0000\n",
       "6998  Default   785.000000       thing   785.000000  13.0000  13.0000\n",
       "3378  Default   770.000000      indian   770.000000  12.0000  12.0000\n",
       "5582  Default   752.000000    question   752.000000  11.0000  11.0000\n",
       "4260  Default   748.000000        mean   748.000000  10.0000  10.0000\n",
       "6613  Default   721.000000       start   721.000000   9.0000   9.0000\n",
       "831   Default   696.000000        book   696.000000   8.0000   8.0000\n",
       "3679  Default   673.000000         job   673.000000   7.0000   7.0000\n",
       "7193  Default   644.000000       trump   644.000000   6.0000   6.0000\n",
       "7549  Default   662.000000        want   662.000000   5.0000   5.0000\n",
       "3029  Default   651.000000      happen   651.000000   4.0000   4.0000\n",
       "4508  Default   631.000000       movie   631.000000   3.0000   3.0000\n",
       "1779  Default   637.000000         day   637.000000   2.0000   2.0000\n",
       "4831  Default   581.000000      online   581.000000   1.0000   1.0000\n",
       "...       ...          ...         ...          ...      ...      ...\n",
       "3852  Topic10   470.428712    language   470.865813   2.3454  -3.7952\n",
       "4041  Topic10   443.628604        long   444.065733   2.3453  -3.8538\n",
       "6691  Topic10   424.822169     student   425.259281   2.3453  -3.8971\n",
       "2104  Topic10   395.357085      donald   395.794178   2.3452  -3.9690\n",
       "1349  Topic10   380.337864     college   380.774978   2.3451  -4.0077\n",
       "3110  Topic10   351.720399        high   352.157528   2.3450  -4.0860\n",
       "5449  Topic10   339.244291   programme   339.681387   2.3450  -4.1221\n",
       "5682  Topic10   320.739416        read   321.176536   2.3449  -4.1782\n",
       "7711  Topic10   257.662738       wrong   258.099860   2.3446  -4.3971\n",
       "612   Topic10   254.145606        bank   254.582736   2.3446  -4.4109\n",
       "3035  Topic10   225.521995        hard   225.959119   2.3443  -4.5304\n",
       "4008  Topic10   225.340851      little   225.777989   2.3443  -4.5312\n",
       "7191  Topic10   221.217944        true   221.655071   2.3443  -4.5496\n",
       "6021  Topic10   195.951886         run   196.389012   2.3441  -4.6709\n",
       "363   Topic10   194.418945       apply   194.856065   2.3440  -4.6788\n",
       "2680  Topic10   192.483634      follow   192.920765   2.3440  -4.6888\n",
       "2783  Topic10   186.089556      future   186.526682   2.3439  -4.7226\n",
       "7750  Topic10   183.699462     youtube   184.136585   2.3439  -4.7355\n",
       "1538  Topic10   178.664226     control   179.101337   2.3438  -4.7633\n",
       "3644  Topic10   176.513036        java   176.950153   2.3438  -4.7754\n",
       "6056  Topic10   171.457883      salary   171.895005   2.3437  -4.8045\n",
       "1155  Topic10   147.819508      chance   148.256633   2.3433  -4.9528\n",
       "7699  Topic10   144.060771       worth   144.497889   2.3433  -4.9786\n",
       "1761  Topic10   139.596808        dark   140.033957   2.3432  -5.0100\n",
       "1835  Topic10   134.403213      degree   134.840319   2.3430  -5.0480\n",
       "5852  Topic10   130.115076     require   130.552204   2.3429  -5.0804\n",
       "2217  Topic10   128.851091   education   129.288205   2.3429  -5.0901\n",
       "6630  Topic10   125.439282        stay   125.876401   2.3428  -5.1170\n",
       "3898  Topic10   287.311422       learn  1091.888171   1.0112  -4.2882\n",
       "2321  Topic10   181.614069    engineer   578.112760   1.1884  -4.7469\n",
       "\n",
       "[347 rows x 6 columns], token_table=      Topic      Freq         Term\n",
       "term                              \n",
       "56        6  0.998871      account\n",
       "148       8  0.999811       affect\n",
       "159       7  1.000099          age\n",
       "234       5  0.996761        allow\n",
       "261       4  0.994694      america\n",
       "262       6  0.996390     american\n",
       "289       6  0.997116      android\n",
       "320       4  0.998306       answer\n",
       "349       6  0.998632          app\n",
       "360       8  0.998737  application\n",
       "363      10  0.995607        apply\n",
       "440       4  0.997992          ask\n",
       "537       9  0.997343      average\n",
       "576       5  0.998003          bad\n",
       "600       2  0.997746          ban\n",
       "607       5  0.999175    bangalore\n",
       "612      10  0.997711         bank\n",
       "678       3  0.997686     beginner\n",
       "687       8  0.998343      believe\n",
       "732       9  0.999227          big\n",
       "779       2  0.763848        black\n",
       "779       5  0.235472        black\n",
       "815       1  0.997398         body\n",
       "831       1  0.999985         book\n",
       "892       4  1.000298        break\n",
       "960       3  1.000244        build\n",
       "983       3  0.999758     business\n",
       "990       3  0.999119          buy\n",
       "1059      3  1.000016          car\n",
       "1063      4  0.997302         card\n",
       "...     ...       ...          ...\n",
       "7299      8  0.994994     universe\n",
       "7301      7  0.998971   university\n",
       "7351      8  0.995314          usa\n",
       "7358      2  0.999612          use\n",
       "7459      5  0.997016        video\n",
       "7464      4  0.999175         view\n",
       "7492      9  0.995978        visit\n",
       "7549      3  0.999436         want\n",
       "7550      2  0.313034          war\n",
       "7550      6  0.685291          war\n",
       "7570      1  0.997920        watch\n",
       "7571      9  0.998171        water\n",
       "7580      3  0.999822          way\n",
       "7588      1  0.997225         wear\n",
       "7590      8  0.998481          web\n",
       "7593      8  0.999367      website\n",
       "7598      7  0.995511         week\n",
       "7602      9  0.999218       weight\n",
       "7615      6  0.997214     whatsapp\n",
       "7626      1  0.996522        white\n",
       "7646      3  0.999826          win\n",
       "7675      1  0.998954        woman\n",
       "7683      2  0.997421         word\n",
       "7685      6  0.999975         work\n",
       "7693      8  0.998481        world\n",
       "7699     10  0.996554        worth\n",
       "7708      3  0.998258        write\n",
       "7711     10  0.999613        wrong\n",
       "7730      1  0.999316         year\n",
       "7750     10  0.999258      youtube\n",
       "\n",
       "[324 rows x 3 columns], R=30, lambda_step=0.01, plot_opts={'xlab': 'PC1', 'ylab': 'PC2'}, topic_order=[3, 6, 1, 5, 2, 10, 8, 7, 4, 9])"
      ]
     },
     "execution_count": 72,
     "metadata": {},
     "output_type": "execute_result"
    }
   ],
   "source": [
    "pyLDAvis.enable_notebook()\n",
    "dash = pyLDAvis.sklearn.prepare(lda, q1_vectorized, vectorizer, mds='tsne')\n",
    "dash"
   ]
  },
  {
   "cell_type": "markdown",
   "metadata": {
    "_uuid": "bb464a9c9c42de1d31dc0bcf4e850cea40af468c"
   },
   "source": [
    "## How to interpret this graph?\n",
    "1. Topics on the left while their respective keywords are on the right.\n",
    "2. Larger topics are more frequent and closer the topics, mor the similarity\n",
    "3. Selection of keywords is based on their frequency and discriminancy.\n",
    "\n",
    "**Hover over the topics on the left to get information about their keywords on the right.**"
   ]
  }
 ],
 "metadata": {
  "kernelspec": {
   "display_name": "Python 3",
   "language": "python",
   "name": "python3"
  },
  "language_info": {
   "codemirror_mode": {
    "name": "ipython",
    "version": 3
   },
   "file_extension": ".py",
   "mimetype": "text/x-python",
   "name": "python",
   "nbconvert_exporter": "python",
   "pygments_lexer": "ipython3",
   "version": "3.6.5"
  }
 },
 "nbformat": 4,
 "nbformat_minor": 1
}
