{
 "cells": [
  {
   "cell_type": "markdown",
   "metadata": {
    "_uuid": "0e7f1eca6087c4c45c31bc6045dea57a3f37b89f"
   },
   "source": [
    "# Topic modelling and entity extraction"
   ]
  },
  {
   "cell_type": "code",
   "execution_count": 21,
   "metadata": {
    "_cell_guid": "b1076dfc-b9ad-4769-8c92-a6c4dae69d19",
    "_uuid": "8f2839f25d086af736a60e9eeb907d3b93b6e0e5"
   },
   "outputs": [
    {
     "data": {
      "text/html": [
       "<script type=\"text/javascript\">window.PlotlyConfig = {MathJaxConfig: 'local'};</script><script type=\"text/javascript\">if (window.MathJax) {MathJax.Hub.Config({SVG: {font: \"STIX-Web\"}});}</script><script>requirejs.config({paths: { 'plotly': ['https://cdn.plot.ly/plotly-latest.min']},});if(!window._Plotly) {require(['plotly'],function(plotly) {window._Plotly=plotly;});}</script>"
      ],
      "text/vnd.plotly.v1+html": [
       "<script type=\"text/javascript\">window.PlotlyConfig = {MathJaxConfig: 'local'};</script><script type=\"text/javascript\">if (window.MathJax) {MathJax.Hub.Config({SVG: {font: \"STIX-Web\"}});}</script><script>requirejs.config({paths: { 'plotly': ['https://cdn.plot.ly/plotly-latest.min']},});if(!window._Plotly) {require(['plotly'],function(plotly) {window._Plotly=plotly;});}</script>"
      ]
     },
     "metadata": {},
     "output_type": "display_data"
    }
   ],
   "source": [
    "# Usual imports\n",
    "import numpy as np\n",
    "import pandas as pd\n",
    "import string\n",
    "from tqdm import tqdm\n",
    "import matplotlib.pyplot as plt\n",
    "from sklearn.decomposition import NMF, LatentDirichletAllocation, TruncatedSVD\n",
    "from sklearn.feature_extraction.text import CountVectorizer\n",
    "from sklearn.manifold import TSNE\n",
    "import concurrent.futures\n",
    "import time\n",
    "import pyLDAvis.sklearn\n",
    "from pylab import bone, pcolor, colorbar, plot, show, rcParams, savefig\n",
    "import warnings\n",
    "warnings.filterwarnings('ignore')\n",
    "\n",
    "%matplotlib inline\n",
    "import os\n",
    "\n",
    "# Plotly based imports for visualization\n",
    "from plotly import tools\n",
    "import plotly.plotly as py\n",
    "from plotly.offline import init_notebook_mode, iplot\n",
    "init_notebook_mode(connected=True)\n",
    "import plotly.graph_objs as go\n",
    "import plotly.figure_factory as ff\n",
    "\n",
    "# spaCy based imports\n",
    "import spacy\n",
    "from spacy.lang.en.stop_words import STOP_WORDS\n",
    "from spacy.lang.en import English\n",
    "# !python -m spacy download en_core_web_lg"
   ]
  },
  {
   "cell_type": "code",
   "execution_count": 22,
   "metadata": {},
   "outputs": [],
   "source": [
    "INPUT_PATH = os.path.join(os.pardir, 'Datasets')\n",
    "OUT_PATH = os.path.join(os.pardir, 'Datasets')\n",
    "INPUT_FILE = 'train.csv'\n",
    "SAMPLE_SIZE = 50000\n",
    "\n",
    "NUM_TOPICS = 10"
   ]
  },
  {
   "cell_type": "code",
   "execution_count": 23,
   "metadata": {
    "_uuid": "d57d08400a530b786ad3226110e34aefb85e94b1"
   },
   "outputs": [
    {
     "data": {
      "text/html": [
       "<div>\n",
       "<style scoped>\n",
       "    .dataframe tbody tr th:only-of-type {\n",
       "        vertical-align: middle;\n",
       "    }\n",
       "\n",
       "    .dataframe tbody tr th {\n",
       "        vertical-align: top;\n",
       "    }\n",
       "\n",
       "    .dataframe thead th {\n",
       "        text-align: right;\n",
       "    }\n",
       "</style>\n",
       "<table border=\"1\" class=\"dataframe\">\n",
       "  <thead>\n",
       "    <tr style=\"text-align: right;\">\n",
       "      <th></th>\n",
       "      <th>qid1</th>\n",
       "      <th>qid2</th>\n",
       "      <th>question1</th>\n",
       "      <th>question2</th>\n",
       "      <th>is_duplicate</th>\n",
       "    </tr>\n",
       "    <tr>\n",
       "      <th>id</th>\n",
       "      <th></th>\n",
       "      <th></th>\n",
       "      <th></th>\n",
       "      <th></th>\n",
       "      <th></th>\n",
       "    </tr>\n",
       "  </thead>\n",
       "  <tbody>\n",
       "    <tr>\n",
       "      <th>0</th>\n",
       "      <td>1</td>\n",
       "      <td>2</td>\n",
       "      <td>What is the step by step guide to invest in sh...</td>\n",
       "      <td>What is the step by step guide to invest in sh...</td>\n",
       "      <td>0</td>\n",
       "    </tr>\n",
       "    <tr>\n",
       "      <th>1</th>\n",
       "      <td>3</td>\n",
       "      <td>4</td>\n",
       "      <td>What is the story of Kohinoor (Koh-i-Noor) Dia...</td>\n",
       "      <td>What would happen if the Indian government sto...</td>\n",
       "      <td>0</td>\n",
       "    </tr>\n",
       "    <tr>\n",
       "      <th>2</th>\n",
       "      <td>5</td>\n",
       "      <td>6</td>\n",
       "      <td>How can I increase the speed of my internet co...</td>\n",
       "      <td>How can Internet speed be increased by hacking...</td>\n",
       "      <td>0</td>\n",
       "    </tr>\n",
       "    <tr>\n",
       "      <th>3</th>\n",
       "      <td>7</td>\n",
       "      <td>8</td>\n",
       "      <td>Why am I mentally very lonely? How can I solve...</td>\n",
       "      <td>Find the remainder when [math]23^{24}[/math] i...</td>\n",
       "      <td>0</td>\n",
       "    </tr>\n",
       "    <tr>\n",
       "      <th>4</th>\n",
       "      <td>9</td>\n",
       "      <td>10</td>\n",
       "      <td>Which one dissolve in water quikly sugar, salt...</td>\n",
       "      <td>Which fish would survive in salt water?</td>\n",
       "      <td>0</td>\n",
       "    </tr>\n",
       "  </tbody>\n",
       "</table>\n",
       "</div>"
      ],
      "text/plain": [
       "    qid1  qid2                                          question1  \\\n",
       "id                                                                  \n",
       "0      1     2  What is the step by step guide to invest in sh...   \n",
       "1      3     4  What is the story of Kohinoor (Koh-i-Noor) Dia...   \n",
       "2      5     6  How can I increase the speed of my internet co...   \n",
       "3      7     8  Why am I mentally very lonely? How can I solve...   \n",
       "4      9    10  Which one dissolve in water quikly sugar, salt...   \n",
       "\n",
       "                                            question2  is_duplicate  \n",
       "id                                                                   \n",
       "0   What is the step by step guide to invest in sh...             0  \n",
       "1   What would happen if the Indian government sto...             0  \n",
       "2   How can Internet speed be increased by hacking...             0  \n",
       "3   Find the remainder when [math]23^{24}[/math] i...             0  \n",
       "4             Which fish would survive in salt water?             0  "
      ]
     },
     "execution_count": 23,
     "metadata": {},
     "output_type": "execute_result"
    }
   ],
   "source": [
    "# Loading data\n",
    "df = pd.read_csv(os.path.join(INPUT_PATH, INPUT_FILE), nrows=SAMPLE_SIZE)\n",
    "df.set_index('id', inplace=True)\n",
    "df.fillna('Empty question', inplace=True)\n",
    "df.head()"
   ]
  },
  {
   "cell_type": "markdown",
   "metadata": {},
   "source": [
    "## Entity Extraction"
   ]
  },
  {
   "cell_type": "code",
   "execution_count": 24,
   "metadata": {
    "_uuid": "17fe81e7e90dfb32681f56a03b9136bbb74343b8"
   },
   "outputs": [],
   "source": [
    "# Creating a spaCy object\n",
    "nlp = spacy.load('en_core_web_lg')"
   ]
  },
  {
   "cell_type": "markdown",
   "metadata": {},
   "source": [
    "Single example:"
   ]
  },
  {
   "cell_type": "code",
   "execution_count": 25,
   "metadata": {
    "_uuid": "677e753450ddea24b1289e3033a2f7928710ef25"
   },
   "outputs": [
    {
     "data": {
      "text/html": [
       "<div class=\"entities\" style=\"line-height: 2.5\">Who is israil friend?</div>"
      ],
      "text/plain": [
       "<IPython.core.display.HTML object>"
      ]
     },
     "metadata": {},
     "output_type": "display_data"
    }
   ],
   "source": [
    "ex = nlp(df['question1'][56])\n",
    "spacy.displacy.render(ex, style='ent',jupyter=True)"
   ]
  },
  {
   "cell_type": "markdown",
   "metadata": {},
   "source": [
    "Full dataset:"
   ]
  },
  {
   "cell_type": "code",
   "execution_count": 26,
   "metadata": {},
   "outputs": [],
   "source": [
    "def get_entities(x):\n",
    "    entity_types = (\n",
    "        'PERSON',\n",
    "        'NORP',\n",
    "        'FAC',\n",
    "        'ORG',\n",
    "        'GPE',\n",
    "        'LOC',\n",
    "        'PRODUCT',\n",
    "        'EVENT',\n",
    "        'WORK_OF_ART',\n",
    "        'LAW',\n",
    "        'LANGUAGE',\n",
    "        'DATE',\n",
    "        'TIME',\n",
    "        'PERCENT',\n",
    "        'MONEY',\n",
    "        'QUANTITY',\n",
    "        'ORDINAL',\n",
    "        'CARDINAL'\n",
    "    )\n",
    "    \n",
    "    df = pd.DataFrame(\n",
    "        data=np.zeros([len(x), len(entity_types)]).astype(int),\n",
    "        columns=entity_types,\n",
    "        index=x.index\n",
    "    )\n",
    "    for i, val in x.iteritems():\n",
    "        if i % 50000 == 0:\n",
    "            print('Entry {}/{}'.format(i, len(x)))\n",
    "        doc = nlp(val, disable=['parser'])\n",
    "        for ent in doc.ents:\n",
    "            df.loc[i, ent.label_] += 1\n",
    "    df.columns = [col + '_COUNT' for col in df.columns]\n",
    "    return df"
   ]
  },
  {
   "cell_type": "code",
   "execution_count": 27,
   "metadata": {},
   "outputs": [
    {
     "name": "stdout",
     "output_type": "stream",
     "text": [
      "Entry 0/20000\n",
      "Entry 0/20000\n"
     ]
    }
   ],
   "source": [
    "ents_df_1 = get_entities(df['question1'])\n",
    "ents_df_2 = get_entities(df['question2'])\n",
    "ents_diff = ents_df_1 - ents_df_2\n",
    "assert ents_diff.index.nunique() == len(ents_diff), 'Index not unique'\n",
    "ents_diff.to_csv(os.path.join(OUT_PATH, 'FEATURE_entity_counts.csv'))"
   ]
  },
  {
   "cell_type": "markdown",
   "metadata": {
    "_uuid": "8cd922f8229f6aba3f08dfb25d8793a5e2b0ee57"
   },
   "source": [
    "## Parts of Speech tagging"
   ]
  },
  {
   "cell_type": "code",
   "execution_count": 28,
   "metadata": {
    "_uuid": "a8ed2a71e2d90ad317e7b0d69d0e6544ff19f17c"
   },
   "outputs": [],
   "source": [
    "# # POS tagging\n",
    "# for i in nlp(review):\n",
    "#     print(i,\"=>\",i.pos_)"
   ]
  },
  {
   "cell_type": "markdown",
   "metadata": {
    "_uuid": "e64d8d97ef7443b594431dc4662450264460aae1"
   },
   "source": [
    "## Topic-modelling"
   ]
  },
  {
   "cell_type": "code",
   "execution_count": 29,
   "metadata": {
    "_uuid": "fd00ec3f6d99df6434671334c513511485de5a18"
   },
   "outputs": [],
   "source": [
    "# Creating a vectorizer\n",
    "vectorizer = CountVectorizer(\n",
    "    min_df=5, \n",
    "    max_df=0.9, \n",
    "    stop_words='english', \n",
    "    lowercase=True, \n",
    "    token_pattern='[a-zA-Z\\-][a-zA-Z\\-]{2,}'\n",
    ")\n",
    "corpus = pd.concat([df['question1'], df['question2']])\n",
    "vectorized_corpus = vectorizer.fit_transform(corpus)\n",
    "q1_vectorized = vectorizer.transform(df['question1'])\n",
    "q2_vectorized = vectorizer.transform(df['question2'])"
   ]
  },
  {
   "cell_type": "code",
   "execution_count": 30,
   "metadata": {
    "_uuid": "2f0140ca0b3eb106edeee8afac1720e25eae5675"
   },
   "outputs": [
    {
     "name": "stdout",
     "output_type": "stream",
     "text": [
      "iteration: 1 of max_iter: 10\n",
      "iteration: 2 of max_iter: 10\n",
      "iteration: 3 of max_iter: 10\n",
      "iteration: 4 of max_iter: 10\n",
      "iteration: 5 of max_iter: 10\n",
      "iteration: 6 of max_iter: 10\n",
      "iteration: 7 of max_iter: 10\n",
      "iteration: 8 of max_iter: 10\n",
      "iteration: 9 of max_iter: 10\n",
      "iteration: 10 of max_iter: 10\n"
     ]
    }
   ],
   "source": [
    "# Latent Dirichlet Allocation Model\n",
    "lda = LatentDirichletAllocation(\n",
    "    n_components=NUM_TOPICS, \n",
    "    max_iter=10, \n",
    "    verbose=True,\n",
    "    random_state=0\n",
    ")\n",
    "lda.fit(vectorized_corpus)\n",
    "q1_lda = lda.transform(q1_vectorized)\n",
    "q2_lda = lda.transform(q2_vectorized)"
   ]
  },
  {
   "cell_type": "code",
   "execution_count": 31,
   "metadata": {},
   "outputs": [],
   "source": [
    "topic_similarity = q1_lda * q2_lda\n",
    "topic_df = pd.DataFrame(\n",
    "    data=topic_similarity,\n",
    "    columns=['PROB_BOTH_SHARE_TOPIC_' + str(i) for i in range(topic_similarity.shape[1])],\n",
    "    index=df.index\n",
    ")\n",
    "topic_df.to_csv(os.path.join(OUT_PATH, 'FEATURE_topic_sharing.csv'))"
   ]
  },
  {
   "cell_type": "code",
   "execution_count": 32,
   "metadata": {},
   "outputs": [
    {
     "data": {
      "text/html": [
       "<div>\n",
       "<style scoped>\n",
       "    .dataframe tbody tr th:only-of-type {\n",
       "        vertical-align: middle;\n",
       "    }\n",
       "\n",
       "    .dataframe tbody tr th {\n",
       "        vertical-align: top;\n",
       "    }\n",
       "\n",
       "    .dataframe thead th {\n",
       "        text-align: right;\n",
       "    }\n",
       "</style>\n",
       "<table border=\"1\" class=\"dataframe\">\n",
       "  <thead>\n",
       "    <tr style=\"text-align: right;\">\n",
       "      <th></th>\n",
       "      <th>PROB_BOTH_SHARE_TOPIC_0</th>\n",
       "      <th>PROB_BOTH_SHARE_TOPIC_1</th>\n",
       "      <th>PROB_BOTH_SHARE_TOPIC_2</th>\n",
       "      <th>PROB_BOTH_SHARE_TOPIC_3</th>\n",
       "      <th>PROB_BOTH_SHARE_TOPIC_4</th>\n",
       "      <th>PROB_BOTH_SHARE_TOPIC_5</th>\n",
       "      <th>PROB_BOTH_SHARE_TOPIC_6</th>\n",
       "      <th>PROB_BOTH_SHARE_TOPIC_7</th>\n",
       "      <th>PROB_BOTH_SHARE_TOPIC_8</th>\n",
       "      <th>PROB_BOTH_SHARE_TOPIC_9</th>\n",
       "    </tr>\n",
       "    <tr>\n",
       "      <th>id</th>\n",
       "      <th></th>\n",
       "      <th></th>\n",
       "      <th></th>\n",
       "      <th></th>\n",
       "      <th></th>\n",
       "      <th></th>\n",
       "      <th></th>\n",
       "      <th></th>\n",
       "      <th></th>\n",
       "      <th></th>\n",
       "    </tr>\n",
       "  </thead>\n",
       "  <tbody>\n",
       "    <tr>\n",
       "      <th>0</th>\n",
       "      <td>0.001964</td>\n",
       "      <td>0.000179</td>\n",
       "      <td>0.000179</td>\n",
       "      <td>0.000179</td>\n",
       "      <td>0.664464</td>\n",
       "      <td>0.000179</td>\n",
       "      <td>0.000179</td>\n",
       "      <td>0.000179</td>\n",
       "      <td>0.000179</td>\n",
       "      <td>0.000179</td>\n",
       "    </tr>\n",
       "    <tr>\n",
       "      <th>1</th>\n",
       "      <td>0.000667</td>\n",
       "      <td>0.000667</td>\n",
       "      <td>0.014000</td>\n",
       "      <td>0.000667</td>\n",
       "      <td>0.007333</td>\n",
       "      <td>0.000667</td>\n",
       "      <td>0.000667</td>\n",
       "      <td>0.000667</td>\n",
       "      <td>0.153999</td>\n",
       "      <td>0.000667</td>\n",
       "    </tr>\n",
       "    <tr>\n",
       "      <th>2</th>\n",
       "      <td>0.000286</td>\n",
       "      <td>0.306000</td>\n",
       "      <td>0.003143</td>\n",
       "      <td>0.003143</td>\n",
       "      <td>0.000286</td>\n",
       "      <td>0.000286</td>\n",
       "      <td>0.003143</td>\n",
       "      <td>0.000286</td>\n",
       "      <td>0.000286</td>\n",
       "      <td>0.000286</td>\n",
       "    </tr>\n",
       "    <tr>\n",
       "      <th>3</th>\n",
       "      <td>0.000500</td>\n",
       "      <td>0.000500</td>\n",
       "      <td>0.000500</td>\n",
       "      <td>0.005500</td>\n",
       "      <td>0.000500</td>\n",
       "      <td>0.005500</td>\n",
       "      <td>0.000500</td>\n",
       "      <td>0.000500</td>\n",
       "      <td>0.015500</td>\n",
       "      <td>0.010500</td>\n",
       "    </tr>\n",
       "    <tr>\n",
       "      <th>4</th>\n",
       "      <td>0.000333</td>\n",
       "      <td>0.000333</td>\n",
       "      <td>0.000333</td>\n",
       "      <td>0.000333</td>\n",
       "      <td>0.000333</td>\n",
       "      <td>0.000333</td>\n",
       "      <td>0.003667</td>\n",
       "      <td>0.000333</td>\n",
       "      <td>0.357001</td>\n",
       "      <td>0.003667</td>\n",
       "    </tr>\n",
       "  </tbody>\n",
       "</table>\n",
       "</div>"
      ],
      "text/plain": [
       "    PROB_BOTH_SHARE_TOPIC_0  PROB_BOTH_SHARE_TOPIC_1  PROB_BOTH_SHARE_TOPIC_2  \\\n",
       "id                                                                              \n",
       "0                  0.001964                 0.000179                 0.000179   \n",
       "1                  0.000667                 0.000667                 0.014000   \n",
       "2                  0.000286                 0.306000                 0.003143   \n",
       "3                  0.000500                 0.000500                 0.000500   \n",
       "4                  0.000333                 0.000333                 0.000333   \n",
       "\n",
       "    PROB_BOTH_SHARE_TOPIC_3  PROB_BOTH_SHARE_TOPIC_4  PROB_BOTH_SHARE_TOPIC_5  \\\n",
       "id                                                                              \n",
       "0                  0.000179                 0.664464                 0.000179   \n",
       "1                  0.000667                 0.007333                 0.000667   \n",
       "2                  0.003143                 0.000286                 0.000286   \n",
       "3                  0.005500                 0.000500                 0.005500   \n",
       "4                  0.000333                 0.000333                 0.000333   \n",
       "\n",
       "    PROB_BOTH_SHARE_TOPIC_6  PROB_BOTH_SHARE_TOPIC_7  PROB_BOTH_SHARE_TOPIC_8  \\\n",
       "id                                                                              \n",
       "0                  0.000179                 0.000179                 0.000179   \n",
       "1                  0.000667                 0.000667                 0.153999   \n",
       "2                  0.003143                 0.000286                 0.000286   \n",
       "3                  0.000500                 0.000500                 0.015500   \n",
       "4                  0.003667                 0.000333                 0.357001   \n",
       "\n",
       "    PROB_BOTH_SHARE_TOPIC_9  \n",
       "id                           \n",
       "0                  0.000179  \n",
       "1                  0.000667  \n",
       "2                  0.000286  \n",
       "3                  0.010500  \n",
       "4                  0.003667  "
      ]
     },
     "execution_count": 32,
     "metadata": {},
     "output_type": "execute_result"
    }
   ],
   "source": [
    "topic_df.head()"
   ]
  },
  {
   "cell_type": "code",
   "execution_count": 33,
   "metadata": {
    "_uuid": "4965ca621bdd6abcf8dd4eb1a41699603cfa2284",
    "scrolled": false
   },
   "outputs": [],
   "source": [
    "# Functions for printing keywords for each topic\n",
    "def selected_topics(model, vectorizer, top_n=10):\n",
    "    for idx, topic in enumerate(model.components_):\n",
    "        print(\"Topic %d:\" % (idx))\n",
    "        print([(vectorizer.get_feature_names()[i], topic[i])\n",
    "                        for i in topic.argsort()[:-top_n - 1:-1]]) "
   ]
  },
  {
   "cell_type": "code",
   "execution_count": 34,
   "metadata": {
    "_uuid": "9a9f1099afa5c6c98ca90103080aa397cd146d3c"
   },
   "outputs": [
    {
     "name": "stdout",
     "output_type": "stream",
     "text": [
      "LDA Model:\n",
      "Topic 0:\n",
      "[('does', 1820.5517886974337), ('india', 1361.2491789473063), ('learn', 681.9978446496044), ('work', 545.7912328237611), ('language', 359.07209582079827), ('improve', 314.5478722664807), ('need', 295.246953008994), ('black', 291.5726156555067), ('programming', 289.48532253735607), ('lose', 277.00671537087163)]\n",
      "Topic 1:\n",
      "[('quora', 921.9514803939502), ('questions', 355.67709774611893), ('google', 339.0672958313173), ('study', 223.92387233721877), ('high', 191.41483683485902), ('mobile', 177.9058242448871), ('answer', 177.8625741682588), ('doesn', 161.670158980061), ('salary', 139.61724211542), ('play', 135.28934976915016)]\n",
      "Topic 2:\n",
      "[('like', 1208.2731001979173), ('think', 615.600043488621), ('indian', 592.2561099430311), ('trump', 502.0602401122335), ('job', 488.87604975825), ('feel', 394.88420389422174), ('donald', 314.60611750281373), ('really', 311.5364746474832), ('increase', 234.5458848459268), ('app', 227.2786259609613)]\n",
      "Topic 3:\n",
      "[('use', 634.3188898421172), ('just', 283.7339595518655), ('question', 282.32073524872425), ('iphone', 209.08025985786168), ('war', 200.7615932813474), ('women', 190.346424806661), ('did', 169.8399066194801), ('days', 162.58446750999906), ('working', 156.47372838731656), ('true', 154.73738002254754)]\n",
      "Topic 4:\n",
      "[('people', 1272.0224023594635), ('good', 1215.378673275317), ('know', 666.7993725803072), ('year', 494.7971957750864), ('better', 494.16397811277756), ('start', 480.88489566448527), ('don', 448.296641839988), ('weight', 358.1503227464645), ('long', 298.84524610703596), ('business', 260.6933142768278)]\n",
      "Topic 5:\n",
      "[('new', 581.2331557093826), ('notes', 356.29109868788487), ('compare', 292.0072824491673), ('company', 286.48243290738355), ('college', 250.1683681086182), ('movies', 245.6486249269351), ('real', 241.5606849148805), ('examples', 209.10281062675926), ('using', 197.0949606357962), ('read', 189.43941318339708)]\n",
      "Topic 6:\n",
      "[('make', 690.4506496833424), ('money', 685.2606939449638), ('world', 447.2488979822853), ('phone', 364.8136878821922), ('account', 345.37567567196464), ('girl', 312.8993097302108), ('number', 296.33478544594504), ('old', 286.84709217456975), ('country', 235.31346822944374), ('school', 235.09153882856106)]\n",
      "Topic 7:\n",
      "[('time', 739.6026128543585), ('does', 738.1844505448754), ('difference', 659.0709265598377), ('english', 429.4732989937391), ('love', 410.64972285630193), ('mean', 406.7293440940157), ('possible', 381.95407038269053), ('movie', 265.26956658540996), ('going', 259.26301768160533), ('instagram', 244.6219151387732)]\n",
      "Topic 8:\n",
      "[('way', 872.0942033040996), ('did', 632.4131277140285), ('online', 492.86545498205714), ('want', 469.6183489050624), ('used', 358.97177057519445), ('stop', 303.6890969021602), ('facebook', 285.31411956440456), ('help', 255.82434999069844), ('president', 242.12434453944422), ('win', 228.7624386900169)]\n",
      "Topic 9:\n",
      "[('best', 3453.555051978272), ('life', 825.2665149684937), ('day', 378.67596349364965), ('engineering', 359.68074862447224), ('things', 350.87946892990453), ('ways', 341.53784387599643), ('person', 338.2202949645666), ('buy', 317.5053155657306), ('books', 272.01774592004483), ('thing', 271.05936631623536)]\n"
     ]
    }
   ],
   "source": [
    "# Keywords for topics clustered by Latent Dirichlet Allocation\n",
    "print(\"LDA Model:\")\n",
    "selected_topics(lda, vectorizer)"
   ]
  },
  {
   "cell_type": "markdown",
   "metadata": {
    "_uuid": "1a9eeef90515577592dfebab1635c1f77a7a6868"
   },
   "source": [
    "The index in the above list with the largest value represents the most dominant topic for the given review.\n",
    "\n",
    "\n",
    "# Visualizing LDA results with pyLDAvis"
   ]
  },
  {
   "cell_type": "code",
   "execution_count": 35,
   "metadata": {
    "_uuid": "520045555b8cd5ebf89634e580a23f8a221e34c1"
   },
   "outputs": [
    {
     "data": {
      "text/html": [
       "\n",
       "<link rel=\"stylesheet\" type=\"text/css\" href=\"https://cdn.rawgit.com/bmabey/pyLDAvis/files/ldavis.v1.0.0.css\">\n",
       "\n",
       "\n",
       "<div id=\"ldavis_el94981126875338966299844415\"></div>\n",
       "<script type=\"text/javascript\">\n",
       "\n",
       "var ldavis_el94981126875338966299844415_data = {\"mdsDat\": {\"x\": [-129.51593017578125, -121.98497009277344, 25.459857940673828, -29.087675094604492, 2.480865716934204, 112.28201293945312, 3.5418787002563477, 237.13308715820312, 125.83880615234375, 161.22390747070312], \"y\": [-79.93093872070312, 70.35508728027344, 159.4560546875, -219.06407165527344, 31.090938568115234, -31.213253021240234, -95.14503479003906, -59.67658996582031, -176.5079803466797, 93.85919189453125], \"topics\": [1, 2, 3, 4, 5, 6, 7, 8, 9, 10], \"cluster\": [1, 1, 1, 1, 1, 1, 1, 1, 1, 1], \"Freq\": [11.402668467863549, 11.169954572268608, 10.820573052632158, 10.367083730769199, 10.006335948086306, 9.839732788338583, 9.635102365006599, 9.348055959379458, 8.772637754986057, 8.637855360669482]}, \"tinfo\": {\"Category\": [\"Default\", \"Default\", \"Default\", \"Default\", \"Default\", \"Default\", \"Default\", \"Default\", \"Default\", \"Default\", \"Default\", \"Default\", \"Default\", \"Default\", \"Default\", \"Default\", \"Default\", \"Default\", \"Default\", \"Default\", \"Default\", \"Default\", \"Default\", \"Default\", \"Default\", \"Default\", \"Default\", \"Default\", \"Default\", \"Default\", \"Topic1\", \"Topic1\", \"Topic1\", \"Topic1\", \"Topic1\", \"Topic1\", \"Topic1\", \"Topic1\", \"Topic1\", \"Topic1\", \"Topic1\", \"Topic1\", \"Topic1\", \"Topic1\", \"Topic1\", \"Topic1\", \"Topic1\", \"Topic1\", \"Topic1\", \"Topic1\", \"Topic1\", \"Topic1\", \"Topic1\", \"Topic1\", \"Topic1\", \"Topic1\", \"Topic1\", \"Topic1\", \"Topic1\", \"Topic1\", \"Topic1\", \"Topic1\", \"Topic2\", \"Topic2\", \"Topic2\", \"Topic2\", \"Topic2\", \"Topic2\", \"Topic2\", \"Topic2\", \"Topic2\", \"Topic2\", \"Topic2\", \"Topic2\", \"Topic2\", \"Topic2\", \"Topic2\", \"Topic2\", \"Topic2\", \"Topic2\", \"Topic2\", \"Topic2\", \"Topic2\", \"Topic2\", \"Topic2\", \"Topic2\", \"Topic2\", \"Topic2\", \"Topic2\", \"Topic2\", \"Topic2\", \"Topic2\", \"Topic3\", \"Topic3\", \"Topic3\", \"Topic3\", \"Topic3\", \"Topic3\", \"Topic3\", \"Topic3\", \"Topic3\", \"Topic3\", \"Topic3\", \"Topic3\", \"Topic3\", \"Topic3\", \"Topic3\", \"Topic3\", \"Topic3\", \"Topic3\", \"Topic3\", \"Topic3\", \"Topic3\", \"Topic3\", \"Topic3\", \"Topic3\", \"Topic3\", \"Topic3\", \"Topic3\", \"Topic3\", \"Topic3\", \"Topic3\", \"Topic3\", \"Topic3\", \"Topic4\", \"Topic4\", \"Topic4\", \"Topic4\", \"Topic4\", \"Topic4\", \"Topic4\", \"Topic4\", \"Topic4\", \"Topic4\", \"Topic4\", \"Topic4\", \"Topic4\", \"Topic4\", \"Topic4\", \"Topic4\", \"Topic4\", \"Topic4\", \"Topic4\", \"Topic4\", \"Topic4\", \"Topic4\", \"Topic4\", \"Topic4\", \"Topic4\", \"Topic4\", \"Topic4\", \"Topic4\", \"Topic4\", \"Topic4\", \"Topic4\", \"Topic5\", \"Topic5\", \"Topic5\", \"Topic5\", \"Topic5\", \"Topic5\", \"Topic5\", \"Topic5\", \"Topic5\", \"Topic5\", \"Topic5\", \"Topic5\", \"Topic5\", \"Topic5\", \"Topic5\", \"Topic5\", \"Topic5\", \"Topic5\", \"Topic5\", \"Topic5\", \"Topic5\", \"Topic5\", \"Topic5\", \"Topic5\", \"Topic5\", \"Topic5\", \"Topic5\", \"Topic5\", \"Topic5\", \"Topic5\", \"Topic6\", \"Topic6\", \"Topic6\", \"Topic6\", \"Topic6\", \"Topic6\", \"Topic6\", \"Topic6\", \"Topic6\", \"Topic6\", \"Topic6\", \"Topic6\", \"Topic6\", \"Topic6\", \"Topic6\", \"Topic6\", \"Topic6\", \"Topic6\", \"Topic6\", \"Topic6\", \"Topic6\", \"Topic6\", \"Topic6\", \"Topic6\", \"Topic6\", \"Topic6\", \"Topic6\", \"Topic6\", \"Topic6\", \"Topic6\", \"Topic6\", \"Topic6\", \"Topic7\", \"Topic7\", \"Topic7\", \"Topic7\", \"Topic7\", \"Topic7\", \"Topic7\", \"Topic7\", \"Topic7\", \"Topic7\", \"Topic7\", \"Topic7\", \"Topic7\", \"Topic7\", \"Topic7\", \"Topic7\", \"Topic7\", \"Topic7\", \"Topic7\", \"Topic7\", \"Topic7\", \"Topic7\", \"Topic7\", \"Topic7\", \"Topic7\", \"Topic7\", \"Topic7\", \"Topic7\", \"Topic7\", \"Topic7\", \"Topic7\", \"Topic7\", \"Topic8\", \"Topic8\", \"Topic8\", \"Topic8\", \"Topic8\", \"Topic8\", \"Topic8\", \"Topic8\", \"Topic8\", \"Topic8\", \"Topic8\", \"Topic8\", \"Topic8\", \"Topic8\", \"Topic8\", \"Topic8\", \"Topic8\", \"Topic8\", \"Topic8\", \"Topic8\", \"Topic8\", \"Topic8\", \"Topic8\", \"Topic8\", \"Topic8\", \"Topic8\", \"Topic8\", \"Topic8\", \"Topic8\", \"Topic8\", \"Topic8\", \"Topic8\", \"Topic9\", \"Topic9\", \"Topic9\", \"Topic9\", \"Topic9\", \"Topic9\", \"Topic9\", \"Topic9\", \"Topic9\", \"Topic9\", \"Topic9\", \"Topic9\", \"Topic9\", \"Topic9\", \"Topic9\", \"Topic9\", \"Topic9\", \"Topic9\", \"Topic9\", \"Topic9\", \"Topic9\", \"Topic9\", \"Topic9\", \"Topic9\", \"Topic9\", \"Topic9\", \"Topic9\", \"Topic9\", \"Topic9\", \"Topic9\", \"Topic9\", \"Topic9\", \"Topic10\", \"Topic10\", \"Topic10\", \"Topic10\", \"Topic10\", \"Topic10\", \"Topic10\", \"Topic10\", \"Topic10\", \"Topic10\", \"Topic10\", \"Topic10\", \"Topic10\", \"Topic10\", \"Topic10\", \"Topic10\", \"Topic10\", \"Topic10\", \"Topic10\", \"Topic10\", \"Topic10\", \"Topic10\", \"Topic10\", \"Topic10\", \"Topic10\", \"Topic10\", \"Topic10\", \"Topic10\", \"Topic10\", \"Topic10\"], \"Freq\": [1612.0, 1280.0, 638.0, 583.0, 592.0, 566.0, 449.0, 410.0, 359.0, 385.0, 434.0, 316.0, 331.0, 320.0, 319.0, 297.0, 289.0, 310.0, 286.0, 415.0, 256.0, 242.0, 236.0, 231.0, 216.0, 221.0, 230.0, 230.0, 208.0, 224.0, 592.3802166113837, 566.0012594151087, 310.52814481315534, 230.42681439278684, 230.13192523418016, 223.94786297039556, 208.77152895007134, 166.79043181507788, 139.17208635146423, 121.40475017892508, 118.2236042172382, 116.45202646250668, 110.17251341768697, 107.06901264808458, 104.0646521705096, 103.1656426018406, 102.61881664040193, 98.25635035872861, 91.58211164013933, 87.41240901258062, 79.77710667075758, 72.37206704279097, 68.3734178067266, 64.12983510006498, 60.7236327433112, 57.894328189591626, 55.798106099266505, 55.526840425908944, 55.222890787200406, 54.26388135783758, 65.66904875928977, 100.90874042583287, 1611.9621629749536, 385.196812118976, 176.74868823364812, 167.88258730696572, 163.77455090972455, 159.4143059155198, 157.86582522285494, 148.19701656187766, 126.96549135062274, 126.51816341293059, 114.51983685743242, 108.73126992587403, 85.92385247959152, 78.84038393993177, 73.13193889271717, 66.01424569608304, 64.9157082744861, 63.970742340893146, 61.110392279336104, 54.79622579233523, 54.508834952606016, 53.51383564419254, 53.39328155700568, 50.254547994802124, 49.948296486429065, 49.0772700026633, 47.24797632758243, 46.53050868768938, 44.9323589793837, 44.5503052164806, 637.653516452981, 319.47003574355, 255.6664159962376, 168.20108184552802, 147.34448324783057, 138.3033031129569, 136.582123647565, 135.6043674679902, 129.75898084575724, 129.14141634658645, 124.00397427607786, 113.47490813929466, 86.12686747105649, 78.1474829523749, 71.68503031960377, 69.29389967807798, 67.37423729844804, 65.36378257355895, 64.82597330873264, 63.7505945422976, 62.65845840347633, 61.05688651491963, 60.921462623559314, 60.79742604725618, 60.13385906996222, 57.46778098389792, 53.983921728600066, 53.91754631238869, 52.563415542494184, 52.44687074437219, 852.8058403277981, 89.93505683945399, 409.71509922553446, 231.55115356545616, 220.62952338266598, 168.6470957416696, 142.67496332342222, 134.04228851067572, 120.18781748993898, 113.75147257262998, 107.47396888071358, 100.19389406257423, 99.39957426051859, 96.76720213376178, 95.33305664446088, 87.65467544590369, 81.55629770467668, 79.1562542310543, 78.39349577323344, 78.1341315956302, 75.47299053546186, 71.34641524932593, 68.80437244755323, 68.34258617477347, 66.58336976862128, 62.8568080147684, 62.23766841622836, 62.14704914879698, 61.64004780388963, 61.32318117760048, 57.604014954164, 57.46213548199628, 297.1114890928042, 583.2570934375453, 297.1621995278933, 285.8936255383128, 242.35431239051115, 235.99004545124708, 190.6183403156258, 151.86653550617405, 150.38475877093256, 113.21989296175204, 109.71184474499637, 104.01004514228474, 103.50632787665478, 102.35635728579115, 88.41541640532958, 85.74123714098715, 83.61624798337091, 81.94898674342562, 78.13095237286005, 75.70243707102152, 74.65271385560023, 74.50589623907051, 71.53836929439838, 71.12581864141647, 69.17746343091878, 68.52927415496274, 67.40846619387807, 67.18051492211627, 64.69188309926955, 61.49612280772752, 59.7058403233058, 330.8639352723644, 215.94486848611217, 176.14273440819943, 166.75749274677608, 151.07695199231532, 143.0791144699913, 138.49817825088215, 113.6162351188864, 113.50908110352042, 111.62050462120753, 103.02414072919318, 86.27729585783669, 83.08620550614766, 79.8014840297966, 79.48744852943923, 78.21066582766757, 77.48344534793566, 74.43677949761133, 73.31859406051782, 69.40305732010874, 64.50660367111172, 58.96081513496733, 58.87921647997745, 57.479292538587316, 54.3007782654745, 52.94162868177242, 50.78293368291736, 47.27006001077831, 45.87144050377868, 43.77096915662383, 333.3697979238523, 61.647495797486954, 288.8039747997385, 177.03443872062306, 145.09300271912912, 142.34780745254065, 124.304022179798, 122.05824562159222, 120.02702404961678, 103.89930831991289, 94.12893083210581, 86.72358439197579, 83.3987516073399, 82.123725760101, 74.98703608128106, 74.8593204486598, 74.0450786336278, 73.84132705667578, 71.75889512827837, 66.43646116433158, 65.50123483908548, 62.35808930487494, 60.60423534541262, 60.44144338123805, 60.25247066552975, 59.81706884452196, 58.2103449268268, 56.97234699654149, 54.324390258991706, 51.23767171857586, 50.508393772392814, 50.12564751598061, 97.93283037190832, 68.72078293770609, 358.9417997178847, 319.85839477788136, 208.43073860522728, 199.2953351081755, 197.3927082325348, 185.36884409267483, 128.7398583856817, 125.82477745417386, 118.71919993830167, 111.89136751123986, 110.2786727196611, 103.55562216255365, 92.16165859034737, 89.67848143865034, 89.62406655138108, 76.41892739516304, 76.21883430693292, 67.41586875193339, 64.27729995377487, 60.630894593723305, 58.04609339630305, 53.505124522183515, 52.66947081807062, 50.59066501541704, 45.72899954195227, 45.096179173362394, 43.97971107304881, 43.73518667304752, 42.80486919797336, 42.54207166296607, 102.07053470721307, 358.25354128989807, 316.2013668614616, 141.43842674722367, 140.7339491358974, 104.2243341787609, 94.88571232056395, 81.04666545544698, 78.00052558153128, 77.13497398740442, 77.09719688088855, 71.63934706266492, 68.39298531676613, 68.28402654750595, 66.35859980204984, 62.94613920282102, 61.557212885488596, 56.72714755935454, 53.53771859549822, 52.87763124563164, 50.891208723231806, 47.70619150009672, 47.455665841961846, 47.42295454591956, 47.35745626863394, 47.293584754185815, 46.5879163720178, 45.76952194167408, 45.65363260416675, 43.549772406806746, 43.22347522091277, 41.66812939681517, 100.07756544133093, 84.66342636283386, 448.936648905898, 173.19402132364746, 165.1060156430931, 109.03787780041051, 93.20787180990435, 86.62976984777275, 86.60870958063359, 78.72394691484094, 67.98546142362848, 65.87803003696847, 60.93544835156526, 60.80744159211885, 58.29457295789568, 58.063609334202056, 56.009638943418686, 55.84961002740579, 55.287597210298756, 54.5622480889711, 54.185024545119184, 52.33089869056633, 51.64186738932836, 51.50034306980496, 48.63318205124671, 48.54701339900044, 48.429414266888855, 47.22015735121426, 45.85058717722711, 45.65735893388993, 44.32104943921902, 43.62890746766955], \"Term\": [\"best\", \"does\", \"india\", \"like\", \"people\", \"good\", \"quora\", \"way\", \"time\", \"life\", \"make\", \"use\", \"money\", \"difference\", \"learn\", \"think\", \"new\", \"know\", \"indian\", \"did\", \"work\", \"trump\", \"job\", \"online\", \"world\", \"want\", \"year\", \"better\", \"english\", \"start\", \"people\", \"good\", \"know\", \"year\", \"better\", \"start\", \"don\", \"weight\", \"long\", \"business\", \"change\", \"free\", \"computer\", \"science\", \"car\", \"student\", \"happen\", \"card\", \"learning\", \"home\", \"bank\", \"believe\", \"right\", \"big\", \"got\", \"exist\", \"common\", \"run\", \"market\", \"writing\", \"live\", \"make\", \"best\", \"life\", \"day\", \"engineering\", \"things\", \"ways\", \"person\", \"buy\", \"books\", \"thing\", \"book\", \"math\", \"android\", \"meaning\", \"social\", \"experience\", \"class\", \"month\", \"today\", \"available\", \"marketing\", \"mind\", \"history\", \"services\", \"education\", \"bangalore\", \"idea\", \"control\", \"sydney\", \"culture\", \"india\", \"learn\", \"work\", \"language\", \"improve\", \"need\", \"black\", \"programming\", \"lose\", \"years\", \"prepare\", \"software\", \"doing\", \"web\", \"age\", \"safe\", \"cost\", \"pay\", \"skills\", \"end\", \"companies\", \"development\", \"power\", \"america\", \"human\", \"java\", \"able\", \"law\", \"police\", \"affect\", \"does\", \"different\", \"way\", \"online\", \"want\", \"used\", \"stop\", \"facebook\", \"help\", \"president\", \"win\", \"water\", \"friends\", \"clinton\", \"hillary\", \"bad\", \"earth\", \"password\", \"girls\", \"tell\", \"write\", \"guy\", \"test\", \"makes\", \"modi\", \"election\", \"girlfriend\", \"chinese\", \"email\", \"rid\", \"kind\", \"body\", \"did\", \"like\", \"think\", \"indian\", \"trump\", \"job\", \"feel\", \"donald\", \"really\", \"increase\", \"app\", \"important\", \"government\", \"exam\", \"china\", \"hair\", \"getting\", \"interview\", \"man\", \"watch\", \"having\", \"relationship\", \"pakistan\", \"students\", \"food\", \"look\", \"tips\", \"process\", \"white\", \"die\", \"woman\", \"money\", \"world\", \"phone\", \"account\", \"girl\", \"number\", \"old\", \"country\", \"school\", \"data\", \"say\", \"com\", \"career\", \"laptop\", \"friend\", \"average\", \"whatsapp\", \"engineer\", \"differences\", \"usa\", \"eat\", \"support\", \"note\", \"song\", \"preparation\", \"considered\", \"talk\", \"point\", \"program\", \"value\", \"make\", \"delete\", \"new\", \"notes\", \"compare\", \"company\", \"college\", \"movies\", \"real\", \"examples\", \"read\", \"rupee\", \"word\", \"video\", \"youtube\", \"game\", \"countries\", \"major\", \"effects\", \"energy\", \"windows\", \"universities\", \"create\", \"actually\", \"interesting\", \"won\", \"majors\", \"apply\", \"economy\", \"join\", \"cause\", \"currency\", \"using\", \"does\", \"time\", \"difference\", \"english\", \"love\", \"mean\", \"possible\", \"movie\", \"going\", \"instagram\", \"ask\", \"website\", \"earn\", \"come\", \"travel\", \"university\", \"future\", \"happens\", \"great\", \"months\", \"place\", \"favorite\", \"state\", \"happened\", \"gain\", \"wrong\", \"rate\", \"download\", \"form\", \"lost\", \"traffic\", \"sex\", \"does\", \"use\", \"just\", \"question\", \"iphone\", \"women\", \"days\", \"working\", \"true\", \"men\", \"gmail\", \"service\", \"hard\", \"music\", \"delhi\", \"god\", \"american\", \"civil\", \"startup\", \"instead\", \"given\", \"private\", \"mba\", \"fall\", \"order\", \"heard\", \"improvement\", \"plan\", \"apple\", \"drive\", \"sleep\", \"war\", \"did\", \"quora\", \"questions\", \"google\", \"study\", \"high\", \"mobile\", \"answer\", \"doesn\", \"salary\", \"play\", \"united\", \"states\", \"problem\", \"answers\", \"jobs\", \"site\", \"games\", \"score\", \"review\", \"air\", \"internet\", \"parents\", \"easily\", \"tech\", \"purpose\", \"main\", \"desert\", \"biggest\", \"family\", \"dog\"], \"Total\": [1612.0, 1280.0, 638.0, 583.0, 592.0, 566.0, 449.0, 410.0, 359.0, 385.0, 434.0, 316.0, 331.0, 320.0, 319.0, 297.0, 289.0, 310.0, 286.0, 415.0, 256.0, 242.0, 236.0, 231.0, 216.0, 221.0, 230.0, 230.0, 208.0, 224.0, 592.8140887837592, 566.435128497288, 310.96201232785427, 230.8606876211993, 230.5657988471304, 224.3817244904699, 209.20540558490327, 167.22428664608523, 139.60596350093024, 121.83861151099806, 118.65748033579659, 116.88590427311816, 110.60636646749712, 107.50286825222446, 104.49850920583276, 103.59952362453497, 103.05269103584787, 98.69020395687883, 92.01597343586256, 87.84627692572587, 80.21097869532318, 72.80592272287099, 68.80729377467922, 64.5636987184652, 61.15752862852942, 58.32819095190846, 56.23197133591343, 55.960709206538844, 55.65676227667674, 54.697755730691114, 96.57947028773344, 434.66412467949783, 1612.3959154172912, 385.6305630620989, 177.18245027924326, 168.31635662601448, 164.20831238635856, 159.84806196192073, 158.29959851219556, 148.63077621607883, 127.39922989072136, 126.95190923278294, 114.95358356900024, 109.16499959685281, 86.35761333714416, 79.27412294213201, 73.5656891281566, 66.44801019172967, 65.3494661218655, 64.4045106573538, 61.544171691623696, 55.22998499052011, 54.94257665957075, 53.94758327378202, 53.827044027536445, 50.688306325544985, 50.38205225971664, 49.5110219937201, 47.68176675838923, 46.964283033444026, 45.36609641797951, 44.98405587991407, 638.0871126601958, 319.9036153634428, 256.1000005608109, 168.63465066096774, 147.77805747562718, 138.73690653697832, 137.01572490542637, 136.03793447857493, 130.192563796318, 129.57503865317275, 124.43755339636377, 113.90850421551386, 86.56047493988002, 78.58106649733817, 72.11862447351686, 69.72748340835656, 67.80781938612894, 65.79738496698018, 65.25954282763524, 64.18419346569046, 63.092046356969036, 61.49049548294707, 61.35504307996181, 61.231029914205166, 60.567444826791025, 57.90135604216648, 54.41754767057848, 54.35114643975826, 52.99698785428989, 52.88046341760843, 1280.1155463405207, 128.08675077267355, 410.1486055448495, 231.98462468194316, 221.0630054451805, 169.0805486632064, 143.1084081548514, 134.4757390838147, 120.62129089793555, 114.18492916542924, 107.90740855669455, 100.62733958425049, 99.83302271072805, 97.20062586241691, 95.76648036870122, 88.0881263375477, 81.98974438689515, 79.58968558550735, 78.8269441730707, 78.56758060145725, 75.90644516040136, 71.77987517680451, 69.23781722122823, 68.77603730874053, 67.01682442518529, 63.290236424120955, 62.67111666362229, 62.58049945212684, 62.07348865523097, 61.75661854130698, 58.03747701532545, 57.89558958024804, 415.0306513092478, 583.6892543594839, 297.5943524808903, 286.32579024161606, 242.7864481127849, 236.42221278205648, 191.05049340637052, 152.29866596327656, 150.8169278292813, 113.65204000724135, 110.14401449208019, 104.44219443740786, 103.93849077769687, 102.78852851438684, 88.84757648348443, 86.17338932540166, 84.04841478529318, 82.38113957184501, 78.563107053931, 76.13459544480271, 75.08488515490905, 74.93805373797284, 71.97051677531898, 71.55797662809549, 69.60962324516933, 68.96142824468815, 67.8406124402216, 67.61266339104003, 65.12404294770616, 61.928274459888044, 60.13799193405839, 331.2960865927042, 216.37701977610297, 176.57487591581275, 167.18962952466353, 151.50909139435154, 143.5112553890497, 138.9303290271709, 114.04838711791663, 113.94122921697156, 112.05265561933474, 103.45629950056042, 86.70943358201131, 83.51835721749384, 80.23361839416805, 79.91959266273986, 78.64283949836263, 77.91558338731204, 74.86893750520449, 73.75073365323598, 69.83521554650984, 64.9387439918032, 59.392963864482745, 59.311368182045456, 57.91143030660736, 54.73294288232535, 53.37378341165167, 51.21508250535463, 47.70221898406512, 46.30359563129097, 44.20311337850166, 434.66412467949783, 71.72649579689097, 289.23470956720377, 177.46515482646188, 145.52374395297727, 142.77856102888376, 124.7347721925204, 122.4889779806609, 120.45775996543362, 104.33002984199169, 94.55967109514998, 87.15429988289699, 83.82947910453939, 82.55446117438629, 75.41777206581962, 75.29005779274024, 74.47583097150901, 74.27206138148729, 72.18960981746929, 66.86718113073975, 65.93197035129651, 62.788819476850286, 61.03498399431128, 60.87219727835215, 60.68320799447052, 60.24782989774473, 58.64105318947392, 57.40309661753569, 54.75511959704315, 51.66842000941539, 50.939128814429466, 50.55636872604073, 131.80367491001238, 1280.1155463405207, 359.3737007163863, 320.29028075102354, 208.8626247069402, 199.7272223276058, 197.82458929693163, 185.80074421250123, 129.171744760368, 126.25670435005505, 119.15109278645915, 112.32329418623839, 110.71056786153302, 103.987523377883, 92.59356647171971, 90.11036114336092, 90.0559701464313, 76.85083329616492, 76.65073516100986, 67.84776924466564, 64.70921631897663, 61.06279753722576, 58.477968349933356, 53.93703626838588, 53.10136304228101, 51.02256233389903, 46.16091425452156, 45.528080976321334, 44.41160575335366, 44.16708827524573, 43.23677739833256, 42.97395715813294, 138.49782946189595, 1280.1155463405207, 316.6319444487552, 141.86903172011327, 141.16452571444972, 104.6549036101684, 95.31627932633675, 81.47725107156097, 78.4311210226935, 77.56555495408564, 77.52775949695618, 72.06991537127345, 68.82356872705364, 68.71461502540875, 66.7891721658316, 63.3767258750559, 61.98777838454723, 57.157732983099365, 53.96829838259811, 53.308206118420145, 51.3217969804709, 48.13677784425351, 47.886252162582636, 47.853543595623336, 47.788036607929286, 47.72417808279065, 47.018493121504214, 46.20007977815647, 46.08421553697893, 43.9803453651993, 43.654061529493084, 42.098693637206395, 139.58277335324271, 415.0306513092478, 449.36836383198835, 173.62573444995857, 165.53774959436024, 109.46961395272207, 93.63961288444611, 87.06150726458173, 87.0404275523049, 79.15569859090277, 68.4171980362504, 66.30975951138407, 61.36716895692628, 61.23916706637321, 58.72631061447549, 58.49531859520029, 56.441373290086574, 56.281344135174365, 55.71932458761683, 54.993978337772205, 54.61674706211854, 52.76263482728375, 52.07358742161296, 51.932092415020406, 49.06490612184462, 48.97876412412903, 48.861132748160884, 47.651890943800794, 46.28231417012219, 46.08907968851844, 44.752793866904284, 44.060634686703374], \"loglift\": [30.0, 29.0, 28.0, 27.0, 26.0, 25.0, 24.0, 23.0, 22.0, 21.0, 20.0, 19.0, 18.0, 17.0, 16.0, 15.0, 14.0, 13.0, 12.0, 11.0, 10.0, 9.0, 8.0, 7.0, 6.0, 5.0, 4.0, 3.0, 2.0, 1.0, 2.1706, 2.1706, 2.1699, 2.1694, 2.1694, 2.1694, 2.1692, 2.1687, 2.1682, 2.1678, 2.1677, 2.1676, 2.1674, 2.1673, 2.1672, 2.1671, 2.1671, 2.1669, 2.1666, 2.1664, 2.1659, 2.1653, 2.165, 2.1646, 2.1642, 2.1639, 2.1636, 2.1635, 2.1635, 2.1634, 1.7856, 0.711, 2.1917, 2.1908, 2.1895, 2.1894, 2.1893, 2.1892, 2.1892, 2.189, 2.1885, 2.1885, 2.1882, 2.188, 2.1869, 2.1865, 2.186, 2.1854, 2.1853, 2.1852, 2.1849, 2.1841, 2.184, 2.1839, 2.1839, 2.1833, 2.1833, 2.1831, 2.1828, 2.1827, 2.1823, 2.1823, 2.223, 2.2224, 2.222, 2.2211, 2.2208, 2.2206, 2.2206, 2.2205, 2.2204, 2.2204, 2.2202, 2.2199, 2.2187, 2.2182, 2.2177, 2.2175, 2.2173, 2.2171, 2.2171, 2.2169, 2.2168, 2.2166, 2.2166, 2.2166, 2.2165, 2.2162, 2.2157, 2.2157, 2.2155, 2.2155, 1.8175, 1.8701, 2.2655, 2.2647, 2.2646, 2.264, 2.2635, 2.2633, 2.2629, 2.2627, 2.2625, 2.2622, 2.2622, 2.2621, 2.262, 2.2616, 2.2612, 2.2611, 2.261, 2.261, 2.2608, 2.2605, 2.2603, 2.2602, 2.26, 2.2597, 2.2596, 2.2596, 2.2595, 2.2595, 2.259, 2.259, 1.9323, 2.3012, 2.3005, 2.3004, 2.3002, 2.3001, 2.2997, 2.2991, 2.2991, 2.2981, 2.298, 2.2978, 2.2978, 2.2977, 2.2971, 2.2969, 2.2968, 2.2967, 2.2964, 2.2963, 2.2962, 2.2962, 2.2959, 2.2959, 2.2957, 2.2957, 2.2956, 2.2955, 2.2953, 2.2949, 2.2947, 2.3174, 2.3167, 2.3163, 2.3162, 2.3159, 2.3157, 2.3156, 2.3149, 2.3149, 2.3149, 2.3146, 2.3137, 2.3136, 2.3133, 2.3133, 2.3132, 2.3132, 2.313, 2.3129, 2.3125, 2.3121, 2.3114, 2.3114, 2.3113, 2.3108, 2.3106, 2.3103, 2.3096, 2.3094, 2.3089, 2.0534, 2.1673, 2.3383, 2.3373, 2.3368, 2.3367, 2.3363, 2.3362, 2.3362, 2.3356, 2.3352, 2.3348, 2.3346, 2.3345, 2.334, 2.334, 2.334, 2.3339, 2.3338, 2.3333, 2.3332, 2.3329, 2.3327, 2.3327, 2.3326, 2.3326, 2.3324, 2.3322, 2.3319, 2.3314, 2.3313, 2.3312, 2.0427, -0.5849, 2.3688, 2.3687, 2.3679, 2.3678, 2.3678, 2.3677, 2.3667, 2.3666, 2.3664, 2.3661, 2.3661, 2.3658, 2.3653, 2.3652, 2.3652, 2.3644, 2.3644, 2.3636, 2.3633, 2.3629, 2.3626, 2.362, 2.3618, 2.3615, 2.3606, 2.3605, 2.3602, 2.3602, 2.36, 2.3599, 2.0648, 1.0965, 2.4322, 2.4305, 2.4305, 2.4294, 2.429, 2.4282, 2.428, 2.428, 2.428, 2.4275, 2.4273, 2.4272, 2.4271, 2.4267, 2.4266, 2.426, 2.4255, 2.4254, 2.4251, 2.4245, 2.4245, 2.4245, 2.4245, 2.4245, 2.4243, 2.4242, 2.4241, 2.4237, 2.4236, 2.4233, 2.1008, 0.8439, 2.4481, 2.4465, 2.4464, 2.4451, 2.4444, 2.444, 2.444, 2.4435, 2.4427, 2.4425, 2.442, 2.4419, 2.4416, 2.4416, 2.4413, 2.4413, 2.4412, 2.4411, 2.4411, 2.4408, 2.4407, 2.4407, 2.4402, 2.4402, 2.4401, 2.4399, 2.4396, 2.4396, 2.4393, 2.4392], \"logprob\": [30.0, 29.0, 28.0, 27.0, 26.0, 25.0, 24.0, 23.0, 22.0, 21.0, 20.0, 19.0, 18.0, 17.0, 16.0, 15.0, 14.0, 13.0, 12.0, 11.0, 10.0, 9.0, 8.0, 7.0, 6.0, 5.0, 4.0, 3.0, 2.0, 1.0, -2.8031, -2.8486, -3.449, -3.7473, -3.7486, -3.7758, -3.846, -4.0705, -4.2515, -4.3881, -4.4147, -4.4298, -4.4852, -4.5138, -4.5422, -4.5509, -4.5562, -4.5997, -4.67, -4.7166, -4.808, -4.9054, -4.9623, -5.0263, -5.0809, -5.1286, -5.1655, -5.1704, -5.1759, -5.1934, -5.0026, -4.573, -1.7814, -3.2129, -3.9919, -4.0434, -4.0681, -4.0951, -4.1049, -4.1681, -4.3227, -4.3262, -4.4259, -4.4777, -4.7132, -4.7992, -4.8744, -4.9767, -4.9935, -5.0082, -5.0539, -5.163, -5.1683, -5.1867, -5.1889, -5.2495, -5.2556, -5.2732, -5.3112, -5.3265, -5.3615, -5.37, -2.677, -3.3682, -3.591, -4.0097, -4.1421, -4.2054, -4.2179, -4.2251, -4.2692, -4.2739, -4.3145, -4.4033, -4.679, -4.7762, -4.8626, -4.8965, -4.9246, -4.9549, -4.9631, -4.9799, -4.9971, -5.023, -5.0253, -5.0273, -5.0383, -5.0836, -5.1462, -5.1474, -5.1728, -5.175, -2.3863, -4.6358, -3.0766, -3.6472, -3.6955, -3.9642, -4.1315, -4.1939, -4.303, -4.358, -4.4148, -4.4849, -4.4929, -4.5197, -4.5347, -4.6186, -4.6907, -4.7206, -4.7303, -4.7336, -4.7683, -4.8245, -4.8608, -4.8675, -4.8936, -4.9512, -4.9611, -4.9625, -4.9707, -4.9759, -5.0384, -5.0409, -3.3979, -2.688, -3.3623, -3.401, -3.5662, -3.5928, -3.8063, -4.0336, -4.0434, -4.3273, -4.3588, -4.4121, -4.417, -4.4281, -4.5746, -4.6053, -4.6304, -4.6505, -4.6982, -4.7298, -4.7438, -4.7457, -4.7864, -4.7922, -4.8199, -4.8293, -4.8458, -4.8492, -4.887, -4.9376, -4.9672, -3.2381, -3.6648, -3.8685, -3.9233, -4.022, -4.0764, -4.109, -4.307, -4.3079, -4.3247, -4.4049, -4.5823, -4.6199, -4.6603, -4.6642, -4.6804, -4.6898, -4.7299, -4.745, -4.7999, -4.8731, -4.9629, -4.9643, -4.9884, -5.0453, -5.0706, -5.1123, -5.1839, -5.214, -5.2608, -3.2306, -4.9184, -3.3531, -3.8425, -4.0414, -4.0605, -4.1961, -4.2143, -4.2311, -4.3754, -4.4741, -4.5561, -4.5952, -4.6106, -4.7015, -4.7032, -4.7141, -4.7169, -4.7455, -4.8226, -4.8367, -4.8859, -4.9144, -4.9171, -4.9203, -4.9275, -4.9547, -4.9762, -5.0238, -5.0823, -5.0967, -5.1043, -4.4345, -4.7888, -3.1054, -3.2207, -3.649, -3.6938, -3.7034, -3.7662, -4.1308, -4.1537, -4.2118, -4.271, -4.2855, -4.3485, -4.465, -4.4923, -4.4929, -4.6523, -4.655, -4.7777, -4.8254, -4.8838, -4.9273, -5.0088, -5.0245, -5.0648, -5.1658, -5.1798, -5.2048, -5.2104, -5.2319, -5.2381, -4.3629, -3.1073, -3.1686, -3.9732, -3.9782, -4.2785, -4.3724, -4.53, -4.5683, -4.5795, -4.58, -4.6534, -4.6998, -4.7014, -4.73, -4.7827, -4.8051, -4.8868, -4.9446, -4.957, -4.9953, -5.06, -5.0652, -5.0659, -5.0673, -5.0687, -5.0837, -5.1014, -5.1039, -5.1511, -5.1586, -5.1953, -4.3191, -4.4863, -2.8027, -3.7551, -3.803, -4.2179, -4.3747, -4.4479, -4.4481, -4.5436, -4.6903, -4.7217, -4.7997, -4.8018, -4.844, -4.848, -4.884, -4.8869, -4.897, -4.9102, -4.9171, -4.952, -4.9652, -4.968, -5.0252, -5.027, -5.0294, -5.0547, -5.0842, -5.0884, -5.1181, -5.1338]}, \"token.table\": {\"Topic\": [3, 6, 7, 3, 3, 10, 3, 9, 2, 10, 10, 5, 9, 7, 8, 2, 6, 4, 2, 1, 1, 2, 1, 1, 10, 3, 4, 2, 2, 1, 2, 1, 1, 6, 7, 1, 5, 4, 9, 2, 4, 7, 6, 8, 1, 3, 7, 7, 1, 6, 2, 3, 7, 6, 7, 2, 7, 6, 2, 9, 4, 6, 9, 10, 3, 4, 8, 9, 5, 8, 6, 2, 3, 3, 7, 8, 10, 10, 3, 1, 5, 8, 9, 8, 4, 10, 6, 7, 2, 7, 4, 4, 3, 7, 6, 2, 8, 5, 7, 1, 2, 4, 9, 10, 8, 5, 5, 8, 1, 6, 4, 8, 8, 7, 10, 5, 6, 4, 4, 9, 9, 9, 8, 1, 10, 1, 5, 8, 4, 5, 1, 8, 8, 9, 5, 9, 4, 10, 4, 2, 1, 3, 2, 5, 3, 9, 5, 3, 5, 8, 9, 7, 10, 5, 9, 3, 5, 10, 7, 9, 4, 1, 3, 6, 3, 3, 1, 2, 5, 1, 6, 1, 5, 3, 8, 8, 10, 7, 7, 1, 6, 4, 5, 1, 2, 2, 9, 8, 2, 9, 2, 10, 4, 6, 2, 8, 8, 7, 9, 3, 7, 6, 7, 6, 6, 4, 9, 5, 10, 4, 3, 1, 2, 6, 8, 9, 10, 6, 3, 8, 3, 6, 3, 4, 9, 10, 5, 6, 3, 10, 9, 10, 10, 8, 7, 7, 5, 5, 10, 4, 1, 1, 7, 3, 10, 6, 6, 1, 10, 9, 2, 5, 8, 10, 3, 9, 2, 3, 6, 1, 9, 8, 10, 4, 1, 5, 10, 6, 2, 6, 10, 4, 4, 2, 2, 5, 8, 5, 2, 8, 8, 9, 5, 10, 7, 8, 6, 9, 4, 7, 10, 6, 7, 4, 5, 9, 5, 4, 4, 2, 3, 8, 1, 6, 5, 4, 7, 5, 9, 7, 7, 3, 9, 6, 4, 1, 8, 1, 3, 7], \"Freq\": [0.9923269664207189, 0.9988657817760428, 0.9856716642843724, 0.983349929998623, 0.9983551478639139, 0.9855459298084677, 0.9962269144496038, 0.9972403911970056, 0.995858925191135, 0.9995355313221479, 0.9915323378503501, 0.9986924891675294, 1.0004468958721786, 0.9929777896788141, 0.9971217529847162, 0.9958358672275651, 0.9918258356073725, 0.9989995662161094, 0.9896786215848076, 0.9973697030162845, 0.9889305334960363, 0.999754455209477, 0.9975460417375018, 0.991269107414009, 0.9980672278743585, 0.9998852328414332, 0.9845309532774222, 1.0004037841149327, 0.9968663084457904, 0.9931170299743414, 0.995756086107215, 0.9952295089219805, 0.9930063579848268, 0.9937934936130991, 1.0011949789285224, 0.9944590064281161, 0.9904603308606624, 0.9907239562290341, 1.0005874118390234, 0.994652349244693, 0.9979359612076892, 0.9941093234901145, 0.9918182652947407, 0.9935895495298693, 0.9958747429548984, 0.9985410782771532, 0.9945470732911627, 0.9964009725234495, 0.9945177977826863, 0.9929968724763463, 1.000760513399737, 0.9880866337622679, 0.9936109343755957, 0.9995757316772345, 0.9994268206195558, 1.0003544393624375, 0.9889950813307888, 0.9995300814688978, 0.9989702689010356, 0.9941425236457498, 0.13941849366679163, 0.8643946607341081, 0.9940557693718891, 0.9939001716922694, 0.9920232309221985, 0.7156097966814968, 0.07951219963127742, 0.20480415056541154, 0.9850104904749235, 0.9990936947872946, 0.9898206618965201, 0.2966739320871823, 0.7026487865222739, 0.6663460985521813, 0.0539013842908564, 0.2796622547264723, 0.9980330084419131, 0.9986238353774401, 0.9935250477741798, 0.9990181631094618, 0.9980389456375897, 0.9907320227140722, 0.9850171666374916, 1.0001199819142885, 1.0001250840965725, 0.9986771375515641, 1.0009432890818544, 0.9862091508045226, 0.9924168976335624, 0.9973734472599489, 0.9954141990847368, 0.9988161023840767, 0.9971302363441099, 0.9870312892501895, 0.9883938849119626, 0.9981204641524092, 0.9958698943472984, 0.9923286331093214, 0.9968366745174757, 0.9943733733799656, 0.9932577335207334, 0.996462268309095, 0.9835097513129776, 0.9831788408754298, 0.9918265226474151, 0.9997357064853891, 0.9912422562176181, 0.9962169053525908, 0.9924207775212301, 0.9884935266547149, 0.9916558400406068, 0.9889287694137809, 0.9995577969261642, 0.9961474622115616, 0.9870902134413758, 0.9994239655153895, 0.9966398624025375, 0.9892914519582536, 0.9895093716781018, 0.9971585583751357, 0.9990298951939477, 1.0001971616949548, 0.9979668061876278, 0.9992318123022448, 0.9967514987023929, 0.9974242152673263, 1.0005917848319992, 0.9875048324491185, 0.9891351834356975, 0.9979879017552981, 0.9994886981085284, 0.9980911404816426, 0.991510385912895, 0.9896002469759235, 0.9988694774622893, 0.9996066840879732, 0.9948492435016197, 0.9931694198134351, 0.9919963606707664, 0.9846351579865067, 0.9903663882484012, 0.9906311909242038, 0.9857017303523201, 0.9957661322630207, 0.9947349593781506, 0.9956692763493653, 0.9942628393894223, 0.9998634784209438, 0.9988621694142845, 0.9987319227803481, 0.993729818529282, 0.9887413995230315, 0.9985868570756002, 0.9953734607966594, 0.9937422558563728, 0.9844329027197554, 0.998214157726179, 0.9921799689774009, 0.9870632775437378, 0.9938744086036497, 0.9993542618105961, 1.0001221617774512, 0.9962365346713726, 0.9970882729852674, 0.9935393002216161, 0.9971753511994037, 0.9998264058373115, 0.9983648519528849, 0.9988191415991712, 0.683375046512164, 0.32097918851328916, 0.9956594726633852, 1.0005593236145718, 0.9985209309141552, 0.9945237038331701, 0.9963589223385235, 0.986319725599775, 0.9963369620227734, 0.9890681842394162, 0.23236332208109642, 0.7661087747822287, 0.9887164579538533, 0.9928324238303807, 0.9881997757359314, 1.001045151937177, 0.9984885302298159, 0.9821634192268804, 0.9958317148547497, 0.99654208798586, 0.9931926383481146, 1.0009716232505164, 0.9992935194150175, 0.9997489522171544, 0.9991062780253477, 0.9937192185263873, 0.9890399488771332, 0.9986704154171904, 0.9960079838306912, 0.9881841301480402, 0.9946884606600197, 0.9991885152112104, 0.9947502782082219, 0.9973788948770437, 0.9964375240975789, 0.993303628993861, 1.0000662773150502, 0.9848257610317696, 1.0004096569818035, 1.0013076227400373, 0.9925909295762474, 0.9878812058050584, 0.9986267384679919, 0.9981073956282177, 0.9967442938139918, 0.9989715908907141, 0.9981725730600458, 0.9953285984798227, 0.9852791128165401, 1.000056836168093, 0.9956903067536402, 0.9942133024094026, 0.9866087434052074, 0.9964837512115812, 0.998380441562815, 0.9814925553251975, 0.98763227917988, 0.9909386295360579, 0.9934433681196497, 0.9997211477907223, 0.9823759151757836, 0.9988345109111724, 0.996396073128555, 0.9991802630945198, 0.9884009831954924, 0.9940812918586951, 0.9961998300021104, 0.9945833147443102, 1.0008266329179534, 0.9887077298577105, 0.9877483813204426, 0.9882673226864169, 1.0007021139299028, 0.9982295780804353, 0.9895667623038095, 0.9939021467083562, 0.9955894469185228, 1.0005157990960105, 0.9953222806014382, 1.000109496756005, 0.9880336236221662, 0.9864208063863025, 0.25993187142260926, 0.7364736356973929, 0.9950011120114928, 0.9960229137933014, 0.9976556603381352, 0.9923104216808037, 0.9920242634931368, 0.9842616509075693, 0.9982987719194301, 0.994218411369246, 1.0011673561613734, 0.996094540833418, 0.9992424752937361, 0.9942130658176792, 0.9922024538089522, 0.9957100976630383, 0.9933836629978701, 0.9919301759047882, 0.995800406934185, 1.000433573126042, 0.992775893095953, 0.9965652120362438, 1.0003788109017635, 0.9987314138770976, 0.9980028099460374, 0.9989601333774805, 0.987609008675116, 0.9911580304573705, 1.0006060145164484, 0.9987752668842894, 0.9927086842294828, 0.9967607413062052, 0.9940168503262062, 0.9874369436561693, 0.999378495991545, 0.9880401951941625, 0.998004167110001, 0.9995236077488319, 0.7435301031394497, 0.2503723816694065, 0.9954049983592231, 0.9932836921651629, 0.9997149887424465, 0.2794041059873666, 0.7164207845829913, 0.9982321381756039, 0.9937657142994897, 0.9996376787758376, 0.9946945746384916, 0.9926055152565554, 0.9935817521736341, 0.9986587675116838, 0.9882490337939106, 0.998095281833074, 0.9915908595264078, 1.0010318157995433, 0.9977054116770361, 0.9966817911004069, 0.9958864925398083, 0.9901051621291242, 0.9996095253393522, 0.9945031893326023, 0.9982575794024102, 0.9880583900552067, 0.9872434303497465, 0.9965140583300774, 0.9962718311633398, 0.9955621186059459, 0.9944605620880047], \"Term\": [\"able\", \"account\", \"actually\", \"affect\", \"age\", \"air\", \"america\", \"american\", \"android\", \"answer\", \"answers\", \"app\", \"apple\", \"apply\", \"ask\", \"available\", \"average\", \"bad\", \"bangalore\", \"bank\", \"believe\", \"best\", \"better\", \"big\", \"biggest\", \"black\", \"body\", \"book\", \"books\", \"business\", \"buy\", \"car\", \"card\", \"career\", \"cause\", \"change\", \"china\", \"chinese\", \"civil\", \"class\", \"clinton\", \"college\", \"com\", \"come\", \"common\", \"companies\", \"company\", \"compare\", \"computer\", \"considered\", \"control\", \"cost\", \"countries\", \"country\", \"create\", \"culture\", \"currency\", \"data\", \"day\", \"days\", \"delete\", \"delete\", \"delhi\", \"desert\", \"development\", \"did\", \"did\", \"did\", \"die\", \"difference\", \"differences\", \"different\", \"different\", \"does\", \"does\", \"does\", \"doesn\", \"dog\", \"doing\", \"don\", \"donald\", \"download\", \"drive\", \"earn\", \"earth\", \"easily\", \"eat\", \"economy\", \"education\", \"effects\", \"election\", \"email\", \"end\", \"energy\", \"engineer\", \"engineering\", \"english\", \"exam\", \"examples\", \"exist\", \"experience\", \"facebook\", \"fall\", \"family\", \"favorite\", \"feel\", \"food\", \"form\", \"free\", \"friend\", \"friends\", \"future\", \"gain\", \"game\", \"games\", \"getting\", \"girl\", \"girlfriend\", \"girls\", \"given\", \"gmail\", \"god\", \"going\", \"good\", \"google\", \"got\", \"government\", \"great\", \"guy\", \"hair\", \"happen\", \"happened\", \"happens\", \"hard\", \"having\", \"heard\", \"help\", \"high\", \"hillary\", \"history\", \"home\", \"human\", \"idea\", \"important\", \"improve\", \"improvement\", \"increase\", \"india\", \"indian\", \"instagram\", \"instead\", \"interesting\", \"internet\", \"interview\", \"iphone\", \"java\", \"job\", \"jobs\", \"join\", \"just\", \"kind\", \"know\", \"language\", \"laptop\", \"law\", \"learn\", \"learning\", \"life\", \"like\", \"live\", \"live\", \"long\", \"look\", \"lose\", \"lost\", \"love\", \"main\", \"major\", \"majors\", \"make\", \"make\", \"makes\", \"man\", \"market\", \"marketing\", \"math\", \"mba\", \"mean\", \"meaning\", \"men\", \"mind\", \"mobile\", \"modi\", \"money\", \"month\", \"months\", \"movie\", \"movies\", \"music\", \"need\", \"new\", \"note\", \"notes\", \"number\", \"old\", \"online\", \"order\", \"pakistan\", \"parents\", \"password\", \"pay\", \"people\", \"person\", \"phone\", \"place\", \"plan\", \"play\", \"point\", \"police\", \"possible\", \"power\", \"preparation\", \"prepare\", \"president\", \"private\", \"problem\", \"process\", \"program\", \"programming\", \"purpose\", \"question\", \"questions\", \"quora\", \"rate\", \"read\", \"real\", \"really\", \"relationship\", \"review\", \"rid\", \"right\", \"run\", \"rupee\", \"safe\", \"salary\", \"say\", \"school\", \"science\", \"score\", \"service\", \"services\", \"sex\", \"sex\", \"site\", \"skills\", \"sleep\", \"social\", \"software\", \"song\", \"start\", \"startup\", \"state\", \"states\", \"stop\", \"student\", \"students\", \"study\", \"support\", \"sydney\", \"talk\", \"tech\", \"tell\", \"test\", \"thing\", \"things\", \"think\", \"time\", \"tips\", \"today\", \"traffic\", \"travel\", \"true\", \"trump\", \"united\", \"universities\", \"university\", \"usa\", \"use\", \"used\", \"using\", \"using\", \"value\", \"video\", \"want\", \"war\", \"war\", \"watch\", \"water\", \"way\", \"ways\", \"web\", \"website\", \"weight\", \"whatsapp\", \"white\", \"win\", \"windows\", \"woman\", \"women\", \"won\", \"word\", \"work\", \"working\", \"world\", \"write\", \"writing\", \"wrong\", \"year\", \"years\", \"youtube\"]}, \"R\": 30, \"lambda.step\": 0.01, \"plot.opts\": {\"xlab\": \"PC1\", \"ylab\": \"PC2\"}, \"topic.order\": [5, 10, 1, 9, 3, 7, 6, 8, 4, 2]};\n",
       "\n",
       "function LDAvis_load_lib(url, callback){\n",
       "  var s = document.createElement('script');\n",
       "  s.src = url;\n",
       "  s.async = true;\n",
       "  s.onreadystatechange = s.onload = callback;\n",
       "  s.onerror = function(){console.warn(\"failed to load library \" + url);};\n",
       "  document.getElementsByTagName(\"head\")[0].appendChild(s);\n",
       "}\n",
       "\n",
       "if(typeof(LDAvis) !== \"undefined\"){\n",
       "   // already loaded: just create the visualization\n",
       "   !function(LDAvis){\n",
       "       new LDAvis(\"#\" + \"ldavis_el94981126875338966299844415\", ldavis_el94981126875338966299844415_data);\n",
       "   }(LDAvis);\n",
       "}else if(typeof define === \"function\" && define.amd){\n",
       "   // require.js is available: use it to load d3/LDAvis\n",
       "   require.config({paths: {d3: \"https://cdnjs.cloudflare.com/ajax/libs/d3/3.5.5/d3.min\"}});\n",
       "   require([\"d3\"], function(d3){\n",
       "      window.d3 = d3;\n",
       "      LDAvis_load_lib(\"https://cdn.rawgit.com/bmabey/pyLDAvis/files/ldavis.v1.0.0.js\", function(){\n",
       "        new LDAvis(\"#\" + \"ldavis_el94981126875338966299844415\", ldavis_el94981126875338966299844415_data);\n",
       "      });\n",
       "    });\n",
       "}else{\n",
       "    // require.js not available: dynamically load d3 & LDAvis\n",
       "    LDAvis_load_lib(\"https://cdnjs.cloudflare.com/ajax/libs/d3/3.5.5/d3.min.js\", function(){\n",
       "         LDAvis_load_lib(\"https://cdn.rawgit.com/bmabey/pyLDAvis/files/ldavis.v1.0.0.js\", function(){\n",
       "                 new LDAvis(\"#\" + \"ldavis_el94981126875338966299844415\", ldavis_el94981126875338966299844415_data);\n",
       "            })\n",
       "         });\n",
       "}\n",
       "</script>"
      ],
      "text/plain": [
       "PreparedData(topic_coordinates=                x           y  topics  cluster       Freq\n",
       "topic                                                    \n",
       "4     -129.515930  -79.930939       1        1  11.402668\n",
       "9     -121.984970   70.355087       2        1  11.169955\n",
       "0       25.459858  159.456055       3        1  10.820573\n",
       "8      -29.087675 -219.064072       4        1  10.367084\n",
       "2        2.480866   31.090939       5        1  10.006336\n",
       "6      112.282013  -31.213253       6        1   9.839733\n",
       "5        3.541879  -95.145035       7        1   9.635102\n",
       "7      237.133087  -59.676590       8        1   9.348056\n",
       "3      125.838806 -176.507980       9        1   8.772638\n",
       "1      161.223907   93.859192      10        1   8.637855, topic_info=     Category         Freq        Term        Total  loglift  logprob\n",
       "term                                                                 \n",
       "495   Default  1612.000000        best  1612.000000  30.0000  30.0000\n",
       "1462  Default  1280.000000        does  1280.000000  29.0000  29.0000\n",
       "2473  Default   638.000000       india   638.000000  28.0000  28.0000\n",
       "2869  Default   583.000000        like   583.000000  27.0000  27.0000\n",
       "3598  Default   592.000000      people   592.000000  26.0000  26.0000\n",
       "2130  Default   566.000000        good   566.000000  25.0000  25.0000\n",
       "3986  Default   449.000000       quora   449.000000  24.0000  24.0000\n",
       "5437  Default   410.000000         way   410.000000  23.0000  23.0000\n",
       "5072  Default   359.000000        time   359.000000  22.0000  22.0000\n",
       "2860  Default   385.000000        life   385.000000  21.0000  21.0000\n",
       "2992  Default   434.000000        make   434.000000  20.0000  20.0000\n",
       "5282  Default   316.000000         use   316.000000  19.0000  19.0000\n",
       "3212  Default   331.000000       money   331.000000  18.0000  18.0000\n",
       "1385  Default   320.000000  difference   320.000000  17.0000  17.0000\n",
       "2811  Default   319.000000       learn   319.000000  16.0000  16.0000\n",
       "5047  Default   297.000000       think   297.000000  15.0000  15.0000\n",
       "3339  Default   289.000000         new   289.000000  14.0000  14.0000\n",
       "2743  Default   310.000000        know   310.000000  13.0000  13.0000\n",
       "2474  Default   286.000000      indian   286.000000  12.0000  12.0000\n",
       "1377  Default   415.000000         did   415.000000  11.0000  11.0000\n",
       "5525  Default   256.000000        work   256.000000  10.0000  10.0000\n",
       "5183  Default   242.000000       trump   242.000000   9.0000   9.0000\n",
       "2664  Default   236.000000         job   236.000000   8.0000   8.0000\n",
       "3442  Default   231.000000      online   231.000000   7.0000   7.0000\n",
       "5534  Default   216.000000       world   216.000000   6.0000   6.0000\n",
       "5410  Default   221.000000        want   221.000000   5.0000   5.0000\n",
       "5562  Default   230.000000        year   230.000000   4.0000   4.0000\n",
       "500   Default   230.000000      better   230.000000   3.0000   3.0000\n",
       "1657  Default   208.000000     english   208.000000   2.0000   2.0000\n",
       "4734  Default   224.000000       start   224.000000   1.0000   1.0000\n",
       "...       ...          ...         ...          ...      ...      ...\n",
       "3986  Topic10   448.936649       quora   449.368364   2.4481  -2.8027\n",
       "3978  Topic10   173.194021   questions   173.625734   2.4465  -3.7551\n",
       "2132  Topic10   165.106016      google   165.537750   2.4464  -3.8030\n",
       "4817  Topic10   109.037878       study   109.469614   2.4451  -4.2179\n",
       "2297  Topic10    93.207872        high    93.639613   2.4444  -4.3747\n",
       "3190  Topic10    86.629770      mobile    87.061507   2.4440  -4.4479\n",
       "226   Topic10    86.608710      answer    87.040428   2.4440  -4.4481\n",
       "1463  Topic10    78.723947       doesn    79.155699   2.4435  -4.5436\n",
       "4318  Topic10    67.985461      salary    68.417198   2.4427  -4.6903\n",
       "3708  Topic10    65.878030        play    66.309760   2.4425  -4.7217\n",
       "5245  Topic10    60.935448      united    61.367169   2.4420  -4.7997\n",
       "4744  Topic10    60.807442      states    61.239167   2.4419  -4.8018\n",
       "3858  Topic10    58.294573     problem    58.726311   2.4416  -4.8440\n",
       "229   Topic10    58.063609     answers    58.495319   2.4416  -4.8480\n",
       "2665  Topic10    56.009639        jobs    56.441373   2.4413  -4.8840\n",
       "4567  Topic10    55.849610        site    56.281344   2.4413  -4.8869\n",
       "2057  Topic10    55.287597       games    55.719325   2.4412  -4.8970\n",
       "4376  Topic10    54.562248       score    54.993978   2.4411  -4.9102\n",
       "4226  Topic10    54.185025      review    54.616747   2.4411  -4.9171\n",
       "145   Topic10    52.330899         air    52.762635   2.4408  -4.9520\n",
       "2556  Topic10    51.641867    internet    52.073587   2.4407  -4.9652\n",
       "3540  Topic10    51.500343     parents    51.932092   2.4407  -4.9680\n",
       "1549  Topic10    48.633182      easily    49.064906   2.4402  -5.0252\n",
       "4974  Topic10    48.547013        tech    48.978764   2.4402  -5.0270\n",
       "3960  Topic10    48.429414     purpose    48.861133   2.4401  -5.0294\n",
       "2983  Topic10    47.220157        main    47.651891   2.4399  -5.0547\n",
       "1332  Topic10    45.850587      desert    46.282314   2.4396  -5.0842\n",
       "512   Topic10    45.657359     biggest    46.089080   2.4396  -5.0884\n",
       "1828  Topic10    44.321049      family    44.752794   2.4393  -5.1181\n",
       "1464  Topic10    43.628907         dog    44.060635   2.4392  -5.1338\n",
       "\n",
       "[343 rows x 6 columns], token_table=      Topic      Freq       Term\n",
       "term                            \n",
       "8         3  0.992327       able\n",
       "38        6  0.998866    account\n",
       "72        7  0.985672   actually\n",
       "112       3  0.983350     affect\n",
       "124       3  0.998355        age\n",
       "145      10  0.985546        air\n",
       "189       3  0.996227    america\n",
       "190       9  0.997240   american\n",
       "203       2  0.995859    android\n",
       "226      10  0.999536     answer\n",
       "229      10  0.991532    answers\n",
       "243       5  0.998692        app\n",
       "250       9  1.000447      apple\n",
       "255       7  0.992978      apply\n",
       "304       8  0.997122        ask\n",
       "376       2  0.995836  available\n",
       "377       6  0.991826    average\n",
       "402       4  0.999000        bad\n",
       "422       2  0.989679  bangalore\n",
       "425       1  0.997370       bank\n",
       "481       1  0.988931    believe\n",
       "495       2  0.999754       best\n",
       "500       1  0.997546     better\n",
       "510       1  0.991269        big\n",
       "512      10  0.998067    biggest\n",
       "540       3  0.999885      black\n",
       "570       4  0.984531       body\n",
       "584       2  1.000404       book\n",
       "586       2  0.996866      books\n",
       "680       1  0.993117   business\n",
       "...     ...       ...        ...\n",
       "5289     10  0.250372      using\n",
       "5302      6  0.995405      value\n",
       "5340      7  0.993284      video\n",
       "5410      4  0.999715       want\n",
       "5413      5  0.279404        war\n",
       "5413      9  0.716421        war\n",
       "5428      5  0.998232      watch\n",
       "5432      4  0.993766      water\n",
       "5437      4  0.999638        way\n",
       "5438      2  0.994695       ways\n",
       "5448      3  0.992606        web\n",
       "5449      8  0.993582    website\n",
       "5459      1  0.998659     weight\n",
       "5471      6  0.988249   whatsapp\n",
       "5476      5  0.998095      white\n",
       "5491      4  0.991591        win\n",
       "5494      7  1.001032    windows\n",
       "5515      5  0.997705      woman\n",
       "5516      9  0.996682      women\n",
       "5517      7  0.995886        won\n",
       "5522      7  0.990105       word\n",
       "5525      3  0.999610       work\n",
       "5530      9  0.994503    working\n",
       "5534      6  0.998258      world\n",
       "5545      4  0.988058      write\n",
       "5548      1  0.987243    writing\n",
       "5550      8  0.996514      wrong\n",
       "5562      1  0.996272       year\n",
       "5563      3  0.995562      years\n",
       "5575      7  0.994461    youtube\n",
       "\n",
       "[320 rows x 3 columns], R=30, lambda_step=0.01, plot_opts={'xlab': 'PC1', 'ylab': 'PC2'}, topic_order=[5, 10, 1, 9, 3, 7, 6, 8, 4, 2])"
      ]
     },
     "execution_count": 35,
     "metadata": {},
     "output_type": "execute_result"
    }
   ],
   "source": [
    "pyLDAvis.enable_notebook()\n",
    "dash = pyLDAvis.sklearn.prepare(lda, q1_vectorized, vectorizer, mds='tsne')\n",
    "dash"
   ]
  },
  {
   "cell_type": "markdown",
   "metadata": {
    "_uuid": "bb464a9c9c42de1d31dc0bcf4e850cea40af468c"
   },
   "source": [
    "## How to interpret this graph?\n",
    "1. Topics on the left while their respective keywords are on the right.\n",
    "2. Larger topics are more frequent and closer the topics, mor the similarity\n",
    "3. Selection of keywords is based on their frequency and discriminancy.\n",
    "\n",
    "**Hover over the topics on the left to get information about their keywords on the right.**"
   ]
  }
 ],
 "metadata": {
  "kernelspec": {
   "display_name": "Python 3",
   "language": "python",
   "name": "python3"
  },
  "language_info": {
   "codemirror_mode": {
    "name": "ipython",
    "version": 3
   },
   "file_extension": ".py",
   "mimetype": "text/x-python",
   "name": "python",
   "nbconvert_exporter": "python",
   "pygments_lexer": "ipython3",
   "version": "3.6.5"
  }
 },
 "nbformat": 4,
 "nbformat_minor": 1
}
