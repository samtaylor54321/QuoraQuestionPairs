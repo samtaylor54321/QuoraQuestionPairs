{
 "cells": [
  {
   "cell_type": "code",
   "execution_count": 20,
   "metadata": {},
   "outputs": [],
   "source": [
    "import os\n",
    "import pandas as pd\n",
    "from sklearn.model_selection import train_test_split"
   ]
  },
  {
   "cell_type": "markdown",
   "metadata": {},
   "source": [
    "# Feature combiner\n",
    "\n",
    "Take all the datasets we've created and combine into single vectors for train and test\n",
    "\n",
    "## Load datasets"
   ]
  },
  {
   "cell_type": "code",
   "execution_count": 21,
   "metadata": {},
   "outputs": [],
   "source": [
    "dataset_folder = os.path.join(os.pardir, 'Datasets')\n",
    "feature_files = [\n",
    "    'FEATURE_entity_counts_{}.csv',\n",
    "    'FEATURE_magic_feature_{}.csv',\n",
    "    'FEATURE_topic_sharing_{}.csv',\n",
    "    'FEATURE_question_type_features_{}.csv',\n",
    "    'FEATURE_feature_tools_trans_{}.csv',\n",
    "]"
   ]
  },
  {
   "cell_type": "code",
   "execution_count": 22,
   "metadata": {},
   "outputs": [
    {
     "name": "stderr",
     "output_type": "stream",
     "text": [
      "/anaconda3/lib/python3.6/site-packages/numpy/lib/arraysetops.py:472: FutureWarning: elementwise comparison failed; returning scalar instead, but in the future will perform elementwise comparison\n",
      "  mask |= (ar1 == a)\n"
     ]
    }
   ],
   "source": [
    "X_train = pd.read_csv(os.path.join(dataset_folder, 'train.csv'), index_col='id')\n",
    "X_test = pd.read_csv(os.path.join(dataset_folder, 'test.csv'), nrows=2345796, index_col='test_id')\n",
    "\n",
    "train_shape = X_train.shape\n",
    "test_shape = X_test.shape"
   ]
  },
  {
   "cell_type": "code",
   "execution_count": 26,
   "metadata": {},
   "outputs": [
    {
     "data": {
      "text/plain": [
       "'FEATURE_magic_feature_test.csv'"
      ]
     },
     "execution_count": 26,
     "metadata": {},
     "output_type": "execute_result"
    }
   ],
   "source": [
    "test_feature_set"
   ]
  },
  {
   "cell_type": "code",
   "execution_count": null,
   "metadata": {},
   "outputs": [
    {
     "name": "stdout",
     "output_type": "stream",
     "text": [
      "Can't add feature FEATURE_entity_counts_{}.csv as train and test sets don't both exist.\n"
     ]
    },
    {
     "name": "stderr",
     "output_type": "stream",
     "text": [
      "/anaconda3/lib/python3.6/site-packages/numpy/lib/arraysetops.py:472: FutureWarning: elementwise comparison failed; returning scalar instead, but in the future will perform elementwise comparison\n",
      "  mask |= (ar1 == a)\n"
     ]
    }
   ],
   "source": [
    "for feature_set in feature_files:\n",
    "    train_feature_set = feature_set.format('train')\n",
    "    test_feature_set = feature_set.format('test')\n",
    "    \n",
    "    try:\n",
    "        X_train_feature = pd.read_csv(os.path.join(dataset_folder, train_feature_set), index_col='id')\n",
    "        try:\n",
    "            X_test_feature = pd.read_csv(os.path.join(dataset_folder, test_feature_set), \n",
    "                                         index_col='test_id', nrows=2345796)\n",
    "        except ValueError as e:\n",
    "            X_test_feature = pd.read_csv(os.path.join(dataset_folder, test_feature_set), \n",
    "                                         index_col='id', nrows=2345796)           \n",
    "        \n",
    "        assert X_train_feature.index.nunique() == X_train_feature.shape[0], \\\n",
    "            'Index not unique in feature set {}'.format(train_feature_set)\n",
    "        assert X_test_feature.index.nunique() == X_test_feature.shape[0], \\\n",
    "            'Index not unique in feature set {}'.format(test_feature_set)\n",
    "        \n",
    "    except FileNotFoundError as e:\n",
    "        print('Can\\'t add feature {} as train and test sets don\\'t both exist.'.format(feature_set))\n",
    "        continue\n",
    "        \n",
    "    X_train = X_train.merge(X_train_feature, left_index=True, right_index=True, how='left')\n",
    "    X_test = X_test.merge(X_test_feature, left_index=True, right_index=True, how='left')\n",
    "        \n",
    "    assert X_train.shape[0] == train_shape[0], 'Rows added'\n",
    "    assert X_test.shape[0] == test_shape[0], 'Rows added'\n",
    "    \n",
    "y_train = X_train.pop('is_duplicate')"
   ]
  },
  {
   "cell_type": "code",
   "execution_count": null,
   "metadata": {},
   "outputs": [],
   "source": [
    "train_metadata = ['qid1', 'qid2', 'question1', 'question2']\n",
    "X_train.drop(columns=train_metadata, inplace=True)\n",
    "test_metadata = ['question1', 'question2']\n",
    "X_test.drop(columns=test_metadata, inplace=True)"
   ]
  },
  {
   "cell_type": "code",
   "execution_count": null,
   "metadata": {},
   "outputs": [],
   "source": [
    "print(X_train.shape)\n",
    "X_train.head()"
   ]
  },
  {
   "cell_type": "code",
   "execution_count": null,
   "metadata": {},
   "outputs": [],
   "source": [
    "print(X_test.shape)\n",
    "X_test.head()"
   ]
  },
  {
   "cell_type": "code",
   "execution_count": null,
   "metadata": {},
   "outputs": [],
   "source": [
    "y_train.shape"
   ]
  },
  {
   "cell_type": "markdown",
   "metadata": {},
   "source": [
    "## Save final feature sets"
   ]
  },
  {
   "cell_type": "code",
   "execution_count": null,
   "metadata": {},
   "outputs": [],
   "source": [
    "X_train.to_csv('x_train.csv')\n",
    "X_test.to_csv('x_test.csv')"
   ]
  },
  {
   "cell_type": "code",
   "execution_count": null,
   "metadata": {},
   "outputs": [],
   "source": [
    "y_train.to_csv('y_train.csv', index=False)"
   ]
  },
  {
   "cell_type": "code",
   "execution_count": null,
   "metadata": {},
   "outputs": [],
   "source": []
  }
 ],
 "metadata": {
  "kernelspec": {
   "display_name": "Python 3",
   "language": "python",
   "name": "python3"
  },
  "language_info": {
   "codemirror_mode": {
    "name": "ipython",
    "version": 3
   },
   "file_extension": ".py",
   "mimetype": "text/x-python",
   "name": "python",
   "nbconvert_exporter": "python",
   "pygments_lexer": "ipython3",
   "version": "3.6.7"
  }
 },
 "nbformat": 4,
 "nbformat_minor": 2
}
